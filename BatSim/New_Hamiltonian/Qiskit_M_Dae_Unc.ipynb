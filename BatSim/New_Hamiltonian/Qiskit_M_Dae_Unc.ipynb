{
 "cells": [
  {
   "cell_type": "code",
   "execution_count": 1,
   "metadata": {},
   "outputs": [
    {
     "name": "stderr",
     "output_type": "stream",
     "text": [
      "c:\\Users\\Navid Elyasi\\AppData\\Local\\Programs\\Python\\Python310\\lib\\site-packages\\qutip\\__init__.py:66: UserWarning: The new version of Cython, (>= 3.0.0) is not supported.\n",
      "  warnings.warn(\n"
     ]
    }
   ],
   "source": [
    "#Calling neccessary packages \n",
    "from math import *\n",
    "from numpy import *\n",
    "from pandas import *\n",
    "from qiskit import *\n",
    "from qutip import *\n",
    "import qiskit.quantum_info\n",
    "import qiskit.visualization\n",
    "import qiskit.result\n",
    "from qiskit_aer import AerSimulator\n",
    "#from qiskit_ibm_runtime import QiskitRuntimeService, Sampler\n",
    "from qiskit.circuit import SwitchCaseOp\n",
    "from qiskit.circuit.library import UnitaryGate\n",
    "from qiskit.visualization import *\n",
    "from qiskit.result import marginal_counts\n",
    "from qiskit_ibm_provider import IBMProvider\n",
    "#from qiskit.providers.ibmq.job import job_monitor\n",
    "#QiskitRuntimeService.save_account(channel=\"ibm_quantum\", token=\"4aa3e6491eafc0c9915717ef7dd214e50c3cd61dc74cb27f3edb2941e70e5262c9855be3567ef414eee7d0be34fb189e39a9fce92a59e7dc3c78717a40ec1c69\", overwrite=True)\n",
    "#provider = IBMProvider()"
   ]
  },
  {
   "cell_type": "code",
   "execution_count": 2,
   "metadata": {},
   "outputs": [],
   "source": [
    "#Charging Operator\n",
    "# Initially we have to define the Hamiltonian \n",
    "omega = 1/2\n",
    "kappa = 1\n",
    "\n",
    "H = omega * (tensor(sigmax(), qeye(2))) + kappa * (\n",
    "tensor(sigmam(), sigmap()) + tensor(sigmap(), sigmam()))\n",
    "# Generating the Unitary gate which is responsible for charging the battey and correlating it with the ancilla \n",
    "M_Unitary = (-1j * H).expm()\n",
    "M_gate = UnitaryGate(M_Unitary)"
   ]
  },
  {
   "cell_type": "code",
   "execution_count": 3,
   "metadata": {},
   "outputs": [],
   "source": [
    "from qiskit_aer import AerSimulator\n",
    "import pandas as pd\n",
    "import numpy as np\n",
    "backend = AerSimulator()"
   ]
  },
  {
   "cell_type": "code",
   "execution_count": 4,
   "metadata": {},
   "outputs": [],
   "source": [
    "\n",
    "\n",
    "def get_values_from_csv(file_path, row_number):\n",
    "    try:\n",
    "        # Read the csv file into a DataFrame, specifying that the first column may contain complex numbers\n",
    "        df = pd.read_csv(file_path, header=None)\n",
    "\n",
    "        # Check if the specified row_number is valid\n",
    "        if 0 <= row_number < df.shape[0]:\n",
    "            # Get the values of the specified row\n",
    "            row_values = df.iloc[row_number, :].tolist()\n",
    "            return row_values\n",
    "        else:\n",
    "            print(\"Invalid row number. Please enter a valid row number.\")\n",
    "            return None\n",
    "\n",
    "    except FileNotFoundError:\n",
    "        print(f\"File not found at the path: {file_path}\")\n",
    "        return None\n",
    "    except Exception as e:\n",
    "        print(f\"An error occurred: {str(e)}\")\n",
    "        return None\n",
    "\n"
   ]
  },
  {
   "cell_type": "code",
   "execution_count": 5,
   "metadata": {},
   "outputs": [],
   "source": [
    "#Adressing directory of the csv file\n",
    "csv_file_path = \"output-no.csv\""
   ]
  },
  {
   "cell_type": "code",
   "execution_count": 6,
   "metadata": {},
   "outputs": [
    {
     "name": "stdout",
     "output_type": "stream",
     "text": [
      "0.16379999999999995\n",
      "0.31089999999999995\n",
      "0.34850000000000003\n",
      "0.3325\n",
      "0.32689999999999997\n",
      "0.31989999999999996\n",
      "0.32920000000000005\n",
      "0.3255\n",
      "0.3328\n",
      "0.32330000000000003\n"
     ]
    }
   ],
   "source": [
    "#Initial Values \n",
    "Steps = 10\n",
    "Energy = []\n",
    "Passive = []\n",
    "#Circuit setup\n",
    "\n",
    "q0 = QuantumRegister(1, name = 'battery')\n",
    "q1 = QuantumRegister(1, name = 'ancilla')\n",
    "creg  = ClassicalRegister(1)\n",
    "qc = QuantumCircuit(q0, q1, creg)\n",
    "#Creat an empty list to save the measurement results \n",
    "result_  = []\n",
    "j = 0\n",
    "#Start the collisional model for arbitrary number of steps \n",
    "for step in range(0, Steps):\n",
    "    j = j + 1\n",
    "    q0 = QuantumRegister(1, name = 'battery')\n",
    "    q1 = QuantumRegister(1, name = 'ancilla')\n",
    "    creg  = ClassicalRegister(1)\n",
    "    qc = QuantumCircuit(q0, q1, creg)\n",
    "    for i in range(j):\n",
    "        qc.append(M_gate, [q1, q0])\n",
    "        qc.barrier()\n",
    "        qc.reset(q1)\n",
    "        qc.barrier()\n",
    "    qc.measure(q0, creg[0])\n",
    "    qc = transpile(qc, backend = backend)\n",
    "    job = backend.run(qc, shots = 10000)\n",
    "    results = job.result()\n",
    "    counts  = results.get_counts()\n",
    "    E  = 1 - counts['0']/10000\n",
    "    Energy.append(E)\n",
    "    print(E)\n",
    "\n",
    "\n",
    "    \n",
    "\n",
    "\n",
    "\n",
    "\n"
   ]
  },
  {
   "cell_type": "code",
   "execution_count": 7,
   "metadata": {},
   "outputs": [
    {
     "name": "stdout",
     "output_type": "stream",
     "text": [
      "0\n",
      "0\n",
      "0\n",
      "0\n",
      "0\n",
      "0\n",
      "0\n",
      "0.006300000000000028\n",
      "0.009399999999999964\n",
      "0\n"
     ]
    }
   ],
   "source": [
    "#Initial Values \n",
    "Steps = 10\n",
    "\n",
    "\n",
    "#Circuit setup\n",
    "q0 = QuantumRegister(1, name = 'battery')\n",
    "q1 = QuantumRegister(1, name = 'ancilla')\n",
    "creg  = ClassicalRegister(1)\n",
    "qc = QuantumCircuit(q0, q1, creg)\n",
    "\n",
    "result_  = []\n",
    "j = 0\n",
    "#Start the collisional model for arbitrary number of steps \n",
    "for step in range(0, Steps):\n",
    "    j = j + 1\n",
    "    q0 = QuantumRegister(1, name = 'battery')\n",
    "    q1 = QuantumRegister(1, name = 'ancilla')\n",
    "    creg  = ClassicalRegister(1)\n",
    "    qc = QuantumCircuit(q0, q1, creg)\n",
    "    for i in range(j):\n",
    "        qc.append(M_gate, [q1, q0])\n",
    "        qc.barrier()\n",
    "        qc.reset(q1)\n",
    "        qc.barrier()\n",
    "    Values = get_values_from_csv(csv_file_path, step)\n",
    "    Unit = Values[0]\n",
    "    if Unit == 1:\n",
    "        qc.x(q0)\n",
    "    qc.measure(q0, creg[0])\n",
    "    qc = transpile(qc, backend = backend)\n",
    "    job = backend.run(qc, shots = 10000)\n",
    "    results = job.result()\n",
    "    counts = results.get_counts()\n",
    "    E = counts['1']/10000\n",
    "    Passive.append(E)\n",
    "for k in range(len(Energy)):\n",
    "    Ergotropy = Energy[k] - Passive[k]\n",
    "    if Ergotropy < 0:\n",
    "       Ergotropy = 0\n",
    "    print(Ergotropy)"
   ]
  }
 ],
 "metadata": {
  "kernelspec": {
   "display_name": "Python 3",
   "language": "python",
   "name": "python3"
  },
  "language_info": {
   "codemirror_mode": {
    "name": "ipython",
    "version": 3
   },
   "file_extension": ".py",
   "mimetype": "text/x-python",
   "name": "python",
   "nbconvert_exporter": "python",
   "pygments_lexer": "ipython3",
   "version": "3.10.6"
  }
 },
 "nbformat": 4,
 "nbformat_minor": 2
}
