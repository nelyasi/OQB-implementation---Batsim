{
 "cells": [
  {
   "cell_type": "code",
   "execution_count": 1,
   "metadata": {},
   "outputs": [
    {
     "name": "stderr",
     "output_type": "stream",
     "text": [
      "c:\\Users\\Navid Elyasi\\AppData\\Local\\Programs\\Python\\Python310\\lib\\site-packages\\qutip\\__init__.py:66: UserWarning: The new version of Cython, (>= 3.0.0) is not supported.\n",
      "  warnings.warn(\n"
     ]
    }
   ],
   "source": [
    "from qutip import *\n",
    "from qutip.qip.operations import *\n",
    "from math import *\n",
    "import pandas as pd\n",
    "from numpy import *"
   ]
  },
  {
   "cell_type": "code",
   "execution_count": 2,
   "metadata": {},
   "outputs": [],
   "source": [
    "#Defining The State of the Battery \n",
    "Battery = basis(2, 0)\n",
    "Ancilla = basis(2, 0)\n",
    "def initialize():\n",
    "    Joint_State = tensor(basis(2, 0), basis(2, 0))\n",
    "    Density = Joint_State*Joint_State.dag()\n",
    "    return Density \n",
    "    \n",
    "\n",
    "\n",
    "omega = 1/2\n",
    "kappa = 1\n",
    "\n",
    "H = omega * (tensor(sigmax(), qeye(2))) + kappa * (\n",
    "tensor(sigmam(), sigmap()) + tensor(sigmap(), sigmam()))\n",
    "# Generating the Unitary gate which is responsible for charging the battey and correlating it with the ancilla \n",
    "M_Unitary = (-1j * H).expm()\n",
    "\n",
    "#Define the number of Steps \n",
    "Steps = 10"
   ]
  },
  {
   "cell_type": "code",
   "execution_count": 3,
   "metadata": {},
   "outputs": [],
   "source": [
    "#This function will be used further to save the data recieved for each arbitrary step\n",
    "import pandas as pd\n",
    "\n",
    "def save_lists_to_excel(Trajectory_Save, Battery_Density, Unitary_Matrix, excel_file_path):\n",
    "    # Create a DataFrame with the two lists as two rows\n",
    "    df = pd.DataFrame([Trajectory_Save, Battery_Density, Unitary_Matrix])\n",
    "\n",
    "    # Save the DataFrame to an Excel file\n",
    "    df.to_excel(excel_file_path, index=False, header=False)"
   ]
  },
  {
   "cell_type": "code",
   "execution_count": 4,
   "metadata": {},
   "outputs": [],
   "source": [
    "# The following function will be used to find out the unitary matrix for leading us to passive state \n",
    "\n",
    "def find_unitary(Theta, Phi):\n",
    "    U = None\n",
    "    if Phi <= 0:\n",
    "        U = array([[ cos(Theta) , sin(Theta)], [-sin(Theta), cos(Theta)]])\n",
    "    elif Phi > 0: \n",
    "        U = array([[ cos(Theta), -sin(Theta) ], [sin(Theta), cos(Theta)]])\n",
    "    Unitary = Qobj(U)\n",
    "    return Unitary"
   ]
  },
  {
   "cell_type": "code",
   "execution_count": 5,
   "metadata": {},
   "outputs": [
    {
     "name": "stdout",
     "output_type": "stream",
     "text": [
      "Quantum object: dims = [[2], [2]], shape = (2, 2), type = oper, isherm = True\n",
      "Qobj data =\n",
      "[[0.8359936+0.j         0.       +0.36625092j]\n",
      " [0.       -0.36625092j 0.1640064+0.j        ]]\n",
      "Quantum object: dims = [[2], [2]], shape = (2, 2), type = oper, isherm = True\n",
      "Qobj data =\n",
      "[[0.68396014+0.j         0.        +0.41873127j]\n",
      " [0.        -0.41873127j 0.31603986+0.j        ]]\n",
      "Quantum object: dims = [[2], [2]], shape = (2, 2), type = oper, isherm = True\n",
      "Qobj data =\n",
      "[[0.6513454+0.j         0.       +0.37774582j]\n",
      " [0.       -0.37774582j 0.3486546+0.j        ]]\n",
      "Quantum object: dims = [[2], [2]], shape = (2, 2), type = oper, isherm = True\n",
      "Qobj data =\n",
      "[[0.66406437+0.j         0.        +0.35263884j]\n",
      " [0.        -0.35263884j 0.33593563+0.j        ]]\n",
      "Quantum object: dims = [[2], [2]], shape = (2, 2), type = oper, isherm = True\n",
      "Qobj data =\n",
      "[[0.67461083+0.j         0.        +0.34959829j]\n",
      " [0.        -0.34959829j 0.32538917+0.j        ]]\n",
      "Quantum object: dims = [[2], [2]], shape = (2, 2), type = oper, isherm = True\n",
      "Qobj data =\n",
      "[[0.67664688+0.j         0.        +0.35262879j]\n",
      " [0.        -0.35262879j 0.32335312+0.j        ]]\n",
      "Quantum object: dims = [[2], [2]], shape = (2, 2), type = oper, isherm = True\n",
      "Qobj data =\n",
      "[[0.67567479+0.j         0.        +0.35434351j]\n",
      " [0.        -0.35434351j 0.32432521+0.j        ]]\n",
      "Quantum object: dims = [[2], [2]], shape = (2, 2), type = oper, isherm = True\n",
      "Qobj data =\n",
      "[[0.67494579+0.j         0.        +0.35451214j]\n",
      " [0.        -0.35451214j 0.32505421+0.j        ]]\n",
      "Quantum object: dims = [[2], [2]], shape = (2, 2), type = oper, isherm = True\n",
      "Qobj data =\n",
      "[[0.67482073+0.j         0.        +0.35428969j]\n",
      " [0.        -0.35428969j 0.32517927+0.j        ]]\n",
      "Quantum object: dims = [[2], [2]], shape = (2, 2), type = oper, isherm = True\n",
      "Qobj data =\n",
      "[[0.67489414+0.j         0.        +0.35417303j]\n",
      " [0.        -0.35417303j 0.32510586+0.j        ]]\n"
     ]
    }
   ],
   "source": [
    "#Staring Loop Process To save density matix for each steps \n",
    "\n",
    "excel_file_path = 'output.xlsx' #Saving path of the Output Data \n",
    "\n",
    "# Initialize an empty list to store the data\n",
    "data_list = []\n",
    "Density = initialize()\n",
    "for step in range(0, Steps):\n",
    "    Evolved = M_Unitary*Density*M_Unitary.dag()    #Charge and interact the Qubit with a specefic \\theta in each step\n",
    "    Battery = Evolved.ptrace(0)\n",
    "    Density = tensor(Battery, Ancilla*Ancilla.dag())\n",
    "    print(Battery)\n",
    "\n",
    "    a = Battery[0, 0]\n",
    "\n",
    "    b = Battery[1, 1]\n",
    "\n",
    "    if a >= b:\n",
    "        Unitary = 0\n",
    "    elif b > a:\n",
    "        Unitary = 1   \n",
    "    #print(Unitary*Battery*Unitary.dag())\n",
    "\n",
    "            \n",
    "\n",
    "    data_list.append({'Theta': Unitary})\n",
    "\n",
    "\n",
    "# Convert the list of dictionaries to a DataFrame\n",
    "df = pd.DataFrame(data_list)\n",
    "\n",
    "# Save the DataFrame to an Excel file\n",
    "csv_file_path = 'output-no.csv'\n",
    "df.to_csv(csv_file_path, index=False, header=False)\n"
   ]
  }
 ],
 "metadata": {
  "kernelspec": {
   "display_name": "Python 3",
   "language": "python",
   "name": "python3"
  },
  "language_info": {
   "codemirror_mode": {
    "name": "ipython",
    "version": 3
   },
   "file_extension": ".py",
   "mimetype": "text/x-python",
   "name": "python",
   "nbconvert_exporter": "python",
   "pygments_lexer": "ipython3",
   "version": "3.10.6"
  }
 },
 "nbformat": 4,
 "nbformat_minor": 2
}
