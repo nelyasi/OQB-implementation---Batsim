{
 "cells": [
  {
   "cell_type": "code",
   "execution_count": 1,
   "metadata": {
    "tags": []
   },
   "outputs": [],
   "source": [
    "#Calling neccessary packages \n",
    "from math import *\n",
    "from numpy import *\n",
    "from pandas import *\n",
    "from qiskit import *\n",
    "import qiskit.quantum_info\n",
    "import qiskit.visualization\n",
    "from qiskit_aer import AerSimulator\n",
    "from qiskit.circuit import SwitchCaseOp\n",
    "from qiskit.visualization import *\n",
    "from qiskit.result import marginal_counts\n",
    "from qiskit_ibm_provider import IBMProvider\n",
    "from qiskit import QuantumCircuit, transpile\n",
    "from qiskit.circuit.library import UnitaryGate\n",
    "from qiskit.visualization import *\n",
    "from qiskit_ibm_runtime import QiskitRuntimeService, Sampler, Estimator, Session, Options\n",
    "import mapomatic as mm\n",
    "#service = QiskitRuntimeService(channel=\"ibm_quantum\")\n",
    "#QiskitRuntimeService.save_account(channel=\"ibm_quantum\", token=\"4aa3e6491eafc0c9915717ef7dd214e50c3cd61dc74cb27f3edb2941e70e5262c9855be3567ef414eee7d0be34fb189e39a9fce92a59e7dc3c78717a40ec1c69\", overwrite=True)\n",
    "#provider = IBMProvider()"
   ]
  },
  {
   "cell_type": "code",
   "execution_count": 2,
   "metadata": {
    "tags": []
   },
   "outputs": [],
   "source": [
    "from qiskit_aer import AerSimulator\n",
    "import pandas as pd\n",
    "import numpy as np\n",
    "backend = AerSimulator()"
   ]
  },
  {
   "cell_type": "code",
   "execution_count": 3,
   "metadata": {
    "tags": []
   },
   "outputs": [
    {
     "name": "stderr",
     "output_type": "stream",
     "text": [
      "c:\\Users\\Navid Elyasi\\AppData\\Local\\Programs\\Python\\Python310\\lib\\site-packages\\qutip\\__init__.py:66: UserWarning: The new version of Cython, (>= 3.0.0) is not supported.\n",
      "  warnings.warn(\n"
     ]
    }
   ],
   "source": [
    "#proiding the packages neccessary for desinging the Unitary gate needed to charge the battery and correlate the battery with the ancilla\n",
    "from qutip import *\n",
    "from qutip.qip.operations import *\n",
    "from math import *\n",
    "import pandas as pd\n",
    "from numpy import *\n"
   ]
  },
  {
   "cell_type": "code",
   "execution_count": 4,
   "metadata": {
    "tags": []
   },
   "outputs": [],
   "source": [
    "\n",
    "\n",
    "def get_values_from_csv(file_path, row_number):\n",
    "    try:\n",
    "        # Read the csv file into a DataFrame, specifying that the first column may contain complex numbers\n",
    "        df = pd.read_csv(file_path, header=None)\n",
    "\n",
    "        # Check if the specified row_number is valid\n",
    "        if 0 <= row_number < df.shape[0]:\n",
    "            # Get the values of the specified row\n",
    "            row_values = df.iloc[row_number, :].tolist()\n",
    "            return row_values\n",
    "        else:\n",
    "            print(\"Invalid row number. Please enter a valid row number.\")\n",
    "            return None\n",
    "\n",
    "    except FileNotFoundError:\n",
    "        print(f\"File not found at the path: {file_path}\")\n",
    "        return None\n",
    "    except Exception as e:\n",
    "        print(f\"An error occurred: {str(e)}\")\n",
    "        return None\n",
    "\n"
   ]
  },
  {
   "cell_type": "code",
   "execution_count": 5,
   "metadata": {
    "tags": []
   },
   "outputs": [],
   "source": [
    "#Adressing directory of the csv file\n",
    "csv_file_path = \"output-m.csv\"\n",
    "\n"
   ]
  },
  {
   "cell_type": "code",
   "execution_count": 6,
   "metadata": {
    "tags": []
   },
   "outputs": [],
   "source": [
    "#Charging Operator\n",
    "# Initially we have to define the Hamiltonian \n",
    "omega = 1\n",
    "kappa = 1\n",
    "\n",
    "H = omega * (tensor(sigmax(), qeye(2))) + kappa * (\n",
    "tensor(sigmam(), sigmap()) + tensor(sigmap(), sigmam()))\n",
    "# Generating the Unitary gate which is responsible for charging the battey and correlating it with the ancilla \n",
    "M_Unitary = (-1j * H).expm()\n",
    "M_gate = UnitaryGate(M_Unitary)"
   ]
  },
  {
   "cell_type": "code",
   "execution_count": 7,
   "metadata": {
    "tags": []
   },
   "outputs": [],
   "source": [
    "#This section is for finding the Optimal Uniatry gate \n",
    "def find_unitary(Theta, Phi):\n",
    "    U = None\n",
    "    U = [[ cos(Theta) , -exp(-1j*Phi)*sin(Theta)], [exp(1j*Phi)*sin(Theta), cos(Theta)]]\n",
    "    Unitary = UnitaryGate(U)\n",
    "    return Unitary"
   ]
  },
  {
   "cell_type": "code",
   "execution_count": 8,
   "metadata": {},
   "outputs": [
    {
     "name": "stdout",
     "output_type": "stream",
     "text": [
      "{'1': 10000}\n"
     ]
    }
   ],
   "source": [
    "#This block is for testing the syntax of writing built up two qubits gate using .unitary method. In fact when I write [q1, q0], it will act in the reversed form of the Qutip`s configuration of Hilbert Space. \n",
    "#In Qutip the mentioned combination will be written as $q0 \\otimes q1$\n",
    "omega = 1\n",
    "kappa = 1\n",
    "\n",
    "H = omega * (tensor(sigmax(), qeye(2)))\n",
    "# Generating the Unitary gate which is responsible for charging the battey and correlating it with the ancilla \n",
    "test_gate = UnitaryGate(H)\n",
    "\n",
    "q0 = QuantumRegister(1, name = 'battery')\n",
    "q1 = QuantumRegister(1, name = 'ancilla')\n",
    "creg  = ClassicalRegister(1)\n",
    "qc = QuantumCircuit(q0, q1, creg)\n",
    "\n",
    "qc.append(test_gate, [q1, q0]) # I meant here. $q0 \\otimes q1$\n",
    "\n",
    "qc.measure(q0, creg )\n",
    "trans_qc = transpile(qc, backend=backend)\n",
    "job = backend.run(trans_qc , shots = 10000)\n",
    "results = job.result()\n",
    "print(results.get_counts())"
   ]
  },
  {
   "cell_type": "code",
   "execution_count": 9,
   "metadata": {
    "tags": []
   },
   "outputs": [],
   "source": [
    "#Initial Values \n",
    "Steps =1\n",
    "\n",
    "\n",
    "#Circuit setup\n",
    "q0 = QuantumRegister(1, name = 'battery')\n",
    "q1 = QuantumRegister(1, name = 'ancilla')\n",
    "creg  = ClassicalRegister(Steps+1)\n",
    "qc = QuantumCircuit(q0, q1, creg)\n",
    "\n",
    "#Creat an empty list to save the measurement results \n",
    "result_  = []\n",
    "\n",
    "#Start the collisional model for arbitrary number of steps \n",
    "for i in range(Steps):\n",
    "    qc.append(M_gate, [q1, q0])\n",
    "    qc.h(q1)\n",
    "    qc.measure(q1, creg[i])\n",
    "    qc.barrier()\n",
    "    qc.reset(q1)\n",
    "    #qc.x(q1)\n",
    "    #qc.barrier()\n",
    "\n",
    "\n",
    "with qc.switch(creg) as case: \n",
    "    for i in range(2**Steps):\n",
    "        with case(i): #the prevous code and search for the decimal code to find the corresponding Theta and Phii\n",
    "            #Calling the Excel file created in\n",
    "            Values = get_values_from_csv(csv_file_path, i)\n",
    "            Theta =  Values[0]\n",
    "            Phi   = Values[1]\n",
    "            Theta = float(real(Theta))\n",
    "            Phi = complex(Phi)\n",
    "            #Creating the Unitary matrix using the obtained Theta and Phi\n",
    "            Optimal_Unitary = find_unitary(Theta, Phi)\n",
    "            qc.append(Optimal_Unitary, q0)\n",
    "\n",
    "qc.measure(q0, creg[Steps])\n",
    "trans_qc = transpile(qc, backend=backend)\n"
   ]
  },
  {
   "cell_type": "code",
   "execution_count": 10,
   "metadata": {},
   "outputs": [],
   "source": [
    "\n",
    "job = backend.run(qc, shots = 10000)\n",
    "results = job.result()"
   ]
  },
  {
   "cell_type": "code",
   "execution_count": 11,
   "metadata": {
    "tags": []
   },
   "outputs": [
    {
     "name": "stdout",
     "output_type": "stream",
     "text": [
      "Measurement 0 results: {'0': 1773, '1': 8227}\n",
      "1\n",
      "Measurement 1 results: {'1': 8139, '0': 1861}\n",
      "0\n"
     ]
    }
   ],
   "source": [
    "counts = []\n",
    "for j in range(Steps + 1):\n",
    "    midcirc_count = marginal_counts(job.result(), indices=[j]).get_counts()\n",
    "    counts.append(midcirc_count)\n",
    "    print(f\"Measurement {j} results: {counts[j]}\")\n",
    "    last_shot_result = int(list(counts[j].keys())[-1][-1])\n",
    "    print(last_shot_result)"
   ]
  },
  {
   "cell_type": "code",
   "execution_count": 12,
   "metadata": {
    "tags": []
   },
   "outputs": [
    {
     "name": "stdout",
     "output_type": "stream",
     "text": [
      "0\n",
      "1\n"
     ]
    }
   ],
   "source": [
    "for j in range(Steps + 1):\n",
    "    midcirc_count = marginal_counts(job.result(), indices=[j]).get_counts()\n",
    "    last_shot_result = int(list(counts[j].keys())[0][-1])\n",
    "    print(last_shot_result)"
   ]
  },
  {
   "cell_type": "code",
   "execution_count": 13,
   "metadata": {
    "tags": []
   },
   "outputs": [
    {
     "data": {
      "image/png": "[encoded data removed]",
      "text/plain": [
       "<Figure size 1359.74x284.278 with 1 Axes>"
      ]
     },
     "execution_count": 13,
     "metadata": {},
     "output_type": "execute_result"
    }
   ],
   "source": [
    "qc.draw(output= 'mpl')"
   ]
  }
 ],
 "metadata": {
  "kernelspec": {
   "display_name": "Qiskit v1.0.2 (ipykernel)",
   "language": "python",
   "name": "python3"
  },
  "language_info": {
   "codemirror_mode": {
    "name": "ipython",
    "version": 3
   },
   "file_extension": ".py",
   "mimetype": "text/x-python",
   "name": "python",
   "nbconvert_exporter": "python",
   "pygments_lexer": "ipython3",
   "version": "3.10.6"
  },
  "widgets": {
   "application/vnd.jupyter.widget-state+json": {
    "state": {},
    "version_major": 2,
    "version_minor": 0
   }
  }
 },
 "nbformat": 4,
 "nbformat_minor": 4
}
