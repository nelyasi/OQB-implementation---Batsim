{
 "cells": [
  {
   "cell_type": "markdown",
   "metadata": {},
   "source": [
    "# BatSim\n",
    "\n",
    "This notebook is designed to retrieve the exact results mentioned in the paper based on the Job IDs of the circuits executed on real IBM backends.\n",
    "\n",
    "We have added a module called `Jobs` with two attributes, `RetrieveUnconditional` and `RetrieveDaemonic`, responsible for retrieving the results for unconditional and Daemonic work extraction, respectively.\n",
    "\n",
    "In the first part, we retrieve the plots related to the Physical model, and in the final part, we focus on the RyCnot model.\n",
    "\n",
    "Please note that running the code does not require internet accessibility.\n"
   ]
  },
  {
   "cell_type": "code",
   "execution_count": 1,
   "metadata": {},
   "outputs": [
    {
     "name": "stderr",
     "output_type": "stream",
     "text": [
      "c:\\Users\\Navid Elyasi\\AppData\\Local\\Programs\\Python\\Python310\\lib\\site-packages\\qutip\\__init__.py:66: UserWarning: The new version of Cython, (>= 3.0.0) is not supported.\n",
      "  warnings.warn(\n"
     ]
    }
   ],
   "source": [
    "# Importing necessary modules and classes from BatSim package\n",
    "from BatSim.Physical import Unconditional, Daemonic  # Importing Unconditional and Daemonic from RyCnot. If you intend to use the Physical model in the code, you need to replace 'RyCnot' with 'Physical'.\n",
    "from BatSim.Calibration import Data  # Importing Data from Calibration\n",
    "from BatSim import Jobs\n",
    "from BatSim.Plot import data_plot  # Importing data_plot from Plot\n",
    "\n",
    "# Importing necessary functions and constants\n",
    "from math import pi, sqrt, exp  # Importing pi, sqrt, and exp functions/constants from math module\n",
    "\n",
    "# Importing Qiskit Aer Simulator from qiskit_aer package\n",
    "from qiskit_aer import AerSimulator\n",
    "\n",
    "import pandas as pd\n"
   ]
  },
  {
   "cell_type": "markdown",
   "metadata": {},
   "source": [
    "# Define Initial Parameters\n",
    "\n",
    "In this cell, we will set the parameters for running the code. These parameters include the number of steps we want the collisional model to perform and omega and kappa, which are the parameters for the physical Hamiltonian model. Finally, we will specify the number of shots we aim to run the circuits."
   ]
  },
  {
   "cell_type": "code",
   "execution_count": 2,
   "metadata": {},
   "outputs": [],
   "source": [
    "Steps = 10  # Number of steps for the collisional model\n",
    "alpha = 1  # drving field parameter for the physical Hamiltonian model\n",
    "kappa = 2 # coupling parameter for the physical Hamiltonian model\n",
    "shots = 10000  # Number of shots for running the circuit\n",
    "figure_num = 0 #In the paper, there are four samples for the two modes of paramters \\kappa =  1 or 2. To have the first, seocond, third and the fourth plots, you have to put 0, 1, 2 and 3 respectively \n"
   ]
  },
  {
   "cell_type": "code",
   "execution_count": 3,
   "metadata": {},
   "outputs": [],
   "source": [
    "# Obtaining the Job ids \n",
    "# Calling the CSV file associated with the Physcial model which includes information about Job ids, calibration and noise parameters.\n",
    "file_path = f'Jobs/Physical/Jobs_Physical_kappa={kappa}-{figure_num}.csv'  # Update the path as necessary\n",
    "df = pd.read_csv(file_path, header=None)\n",
    "\n",
    "# Convert the dataframe to a list of lists\n",
    "data_list = df.values.tolist()\n",
    "Job0, Job1, Job2, Job3, Job4, Job5 = f'{data_list[5][0]}', f'{data_list[6][0]}', f'{data_list[7][0]}', f'{data_list[8][0]}', f'{data_list[9][0]}', f'{data_list[10][0]}'"
   ]
  },
  {
   "cell_type": "markdown",
   "metadata": {},
   "source": [
    "# Circuit Executions (Noisy)\n",
    "\n",
    "This cell is responsible for retrieving the results for the physical model in the noisy case. The noise and calibration parameters are saved and called from the CSV file."
   ]
  },
  {
   "cell_type": "code",
   "execution_count": 4,
   "metadata": {},
   "outputs": [],
   "source": [
    "# Obtain noise parameters from the CSV file\n",
    "P01, P10, pa, pd = float(data_list[1][0]),float(data_list[2][0]), float(data_list[3][0]), float(data_list[4][0])\n",
    "\n",
    "omega = alpha \n",
    "# Calculate theoretical results using the Daemonic module for passive energy after optimal unitary work extraction\n",
    "Passive_Theory = Daemonic.Theory(Steps=Steps,omega = omega, kappa = kappa, pa=pa, pd=pd, P01=P01, P10=P10)\n",
    "\n",
    "# Retrive the results for the Daemonic work extraction on the backend to calculate the passive energy\n",
    "Passive_Im = Jobs.RetrieveDaemonic_offline(Jobid = Job0, mode = \"Physical\", Steps = Steps,  shots = shots)\n",
    "\n",
    "# Calculate theoretical results using the Unconditional module for passive energy and ergotropy\n",
    "Energy_Theory, Ergotropy_Theory = Unconditional.Theory(Steps=Steps, omega = omega, kappa = kappa, pa=pa, pd=pd)\n",
    "\n",
    "# Retrive the results for the Unconditional model on the backend to get unconditional work extraction and final energy\n",
    "Energy_Im, Ergotropy_Im = Jobs.RetrieveUnconditional_offline(Jobid1 = Job1, Jobid2 = Job2, mode = \"Physical\", Steps = Steps, shots = shots)\n",
    "\n",
    "# Calculate the theoretical and implemented Daemonic results.\n",
    "Daemonic_Theory = [xi - yi for xi, yi in zip(Energy_Theory, Passive_Theory)]\n",
    "Daemonic_Im = [xi - yi for xi, yi in zip(Energy_Im, Passive_Im)]\n"
   ]
  },
  {
   "cell_type": "markdown",
   "metadata": {},
   "source": [
    "# Circuit Executions (Ideal)\n",
    "\n",
    "\n",
    "This cell is responsible for retrieving the results for the physical model in the noisy case. The noise and calibration parameters are saved and called from the CSV file."
   ]
  },
  {
   "cell_type": "code",
   "execution_count": 5,
   "metadata": {},
   "outputs": [],
   "source": [
    "P01, P10, pa, pd = 0, 0, 0, 0\n",
    "Passvie_TheoryIdeal = Daemonic.Theory(Steps = Steps,omega = omega, kappa = kappa , pa = pa , pd = pd, P01 =P01 , P10 = P10)\n",
    "Passive_ImIdeal =  Jobs.RetrieveDaemonic_offline(Jobid = Job3, mode = \"Physical\", Steps = Steps,  shots = shots)\n",
    "Energy_TheoryIdeal, Ergotropy_TheoryIdeal     = Unconditional.Theory(Steps = Steps,  omega = omega, kappa = kappa, pa = pa , pd = pd)\n",
    "Energy_ImIdeal    , Ergotropy_ImIdeal         = Jobs.RetrieveUnconditional_offline(Jobid1 = Job4, Jobid2 = Job5, mode = \"Physical\", Steps = Steps, shots = shots)\n",
    "Daemonic_TheoryIdeal = [xi - yi for xi, yi in zip(Energy_TheoryIdeal, Passvie_TheoryIdeal )]\n",
    "Daemonic_ImIdeal     = [xi - yi for xi, yi in zip(Energy_ImIdeal    ,      Passive_ImIdeal)]"
   ]
  },
  {
   "cell_type": "markdown",
   "metadata": {},
   "source": [
    "# Standart Deviation"
   ]
  },
  {
   "cell_type": "code",
   "execution_count": 6,
   "metadata": {},
   "outputs": [],
   "source": [
    "\n",
    "delte_E_init2 = [] \n",
    "delta_E_fin_2 = [] \n",
    "std_curve = []\n",
    "\n",
    "for item in Energy_Im:\n",
    "    std = item*(1 - item)\n",
    "    delte_E_init2.append(std)\n",
    "for item in Passive_Im:\n",
    "    std = item*(1 - item)\n",
    "    delta_E_fin_2.append(std)\n",
    "\n",
    "\n",
    "for i in range(len(Energy_Im)):\n",
    "    std = sqrt((delte_E_init2[i] + delta_E_fin_2[i])/shots)\n",
    "    std_curve.append(std)\n",
    "\n",
    "delte_E_init2 = [] \n",
    "delta_E_fin_2 = [] \n",
    "std_curveIdeal = []\n",
    "\n",
    "for item in Energy_ImIdeal:\n",
    "    std = item*(1 - item)\n",
    "    delte_E_init2.append(std)\n",
    "for item in Passive_ImIdeal:\n",
    "    std = item*(1 - item)\n",
    "    delta_E_fin_2.append(std)\n",
    "\n",
    "\n",
    "for i in range(len(Energy_ImIdeal)):\n",
    "    std = sqrt((delte_E_init2[i] + delta_E_fin_2[i])/shots)\n",
    "    std_curveIdeal.append(std)"
   ]
  },
  {
   "cell_type": "markdown",
   "metadata": {},
   "source": [
    "# Plotting the Results \n",
    "\n",
    "In the next three cells, we plot the results for the noisy case, the ideal case, and a comparison plot, respectively."
   ]
  },
  {
   "cell_type": "code",
   "execution_count": 7,
   "metadata": {},
   "outputs": [
    {
     "name": "stderr",
     "output_type": "stream",
     "text": [
      "WARNING:matplotlib.animation:MovieWriter imagemagick unavailable; using Pillow instead.\n",
      "e:\\Thesis\\Prof.Marco Genoni\\OQB-implementation---Batsim\\BatSim\\Plot\\data_plot.py:125: UserWarning: linestyle is redundantly defined by the 'linestyle' keyword argument and the fmt string \"-o\" (-> linestyle='-'). The keyword argument will take precedence.\n",
      "  ax.errorbar(x_axis[:frame], Daemonic_Im[:frame], yerr=std_dev[:frame], color='orange', linestyle='dashed', fmt='-o', markersize=4)\n",
      "e:\\Thesis\\Prof.Marco Genoni\\OQB-implementation---Batsim\\BatSim\\Plot\\data_plot.py:126: UserWarning: linestyle is redundantly defined by the 'linestyle' keyword argument and the fmt string \"-s\" (-> linestyle='-'). The keyword argument will take precedence.\n",
      "  ax.errorbar(x_axis[:frame], Daemonic_ImIdeal[:frame], yerr=std_dev[:frame], color='black', linestyle='dashed', fmt='-s', markersize=4)\n",
      "WARNING:matplotlib.legend:No artists with labels found to put in legend.  Note that artists whose label start with an underscore are ignored when legend() is called with no argument.\n",
      "WARNING:matplotlib.legend:No artists with labels found to put in legend.  Note that artists whose label start with an underscore are ignored when legend() is called with no argument.\n",
      "c:\\Users\\Navid Elyasi\\AppData\\Local\\Programs\\Python\\Python310\\lib\\site-packages\\matplotlib\\cbook.py:1699: ComplexWarning: Casting complex values to real discards the imaginary part\n",
      "  return math.isfinite(val)\n",
      "c:\\Users\\Navid Elyasi\\AppData\\Local\\Programs\\Python\\Python310\\lib\\site-packages\\matplotlib\\cbook.py:1345: ComplexWarning: Casting complex values to real discards the imaginary part\n",
      "  return np.asarray(x, float)\n",
      "WARNING:matplotlib.legend:No artists with labels found to put in legend.  Note that artists whose label start with an underscore are ignored when legend() is called with no argument.\n",
      "WARNING:matplotlib.legend:No artists with labels found to put in legend.  Note that artists whose label start with an underscore are ignored when legend() is called with no argument.\n",
      "WARNING:matplotlib.legend:No artists with labels found to put in legend.  Note that artists whose label start with an underscore are ignored when legend() is called with no argument.\n",
      "WARNING:matplotlib.legend:No artists with labels found to put in legend.  Note that artists whose label start with an underscore are ignored when legend() is called with no argument.\n",
      "WARNING:matplotlib.legend:No artists with labels found to put in legend.  Note that artists whose label start with an underscore are ignored when legend() is called with no argument.\n",
      "WARNING:matplotlib.legend:No artists with labels found to put in legend.  Note that artists whose label start with an underscore are ignored when legend() is called with no argument.\n",
      "WARNING:matplotlib.legend:No artists with labels found to put in legend.  Note that artists whose label start with an underscore are ignored when legend() is called with no argument.\n",
      "WARNING:matplotlib.legend:No artists with labels found to put in legend.  Note that artists whose label start with an underscore are ignored when legend() is called with no argument.\n",
      "WARNING:matplotlib.legend:No artists with labels found to put in legend.  Note that artists whose label start with an underscore are ignored when legend() is called with no argument.\n",
      "WARNING:matplotlib.legend:No artists with labels found to put in legend.  Note that artists whose label start with an underscore are ignored when legend() is called with no argument.\n"
     ]
    },
    {
     "data": {
      "text/plain": [
       "<matplotlib.animation.FuncAnimation at 0x21bffc406d0>"
      ]
     },
     "execution_count": 7,
     "metadata": {},
     "output_type": "execute_result"
    },
    {
     "name": "stderr",
     "output_type": "stream",
     "text": [
      "WARNING:matplotlib.legend:No artists with labels found to put in legend.  Note that artists whose label start with an underscore are ignored when legend() is called with no argument.\n"
     ]
    },
    {
     "data": {
      "image/png": "[encoded data removed]",
      "text/plain": [
       "<Figure size 640x480 with 1 Axes>"
      ]
     },
     "metadata": {},
     "output_type": "display_data"
    }
   ],
   "source": [
    "data_plot.compare(std_dev = std_curve, \n",
    "                  std_devIdeal = std_curveIdeal,\n",
    "                  Ergotropy_TheoryIdeal=Ergotropy_TheoryIdeal, \n",
    "                  error =True,\n",
    "                  Ergotropy_ImIdeal=Ergotropy_ImIdeal,\n",
    "                  Daemonic_Theory=Daemonic_Theory,  \n",
    "                  Daemonic_TheoryIdeal=Daemonic_TheoryIdeal, \n",
    "                  Daemonic_Im=Daemonic_Im, \n",
    "                  Daemonic_ImIdeal=Daemonic_ImIdeal,\n",
    "                  noise = True,\n",
    "                  legend= True, \n",
    "                  file_name=f\"compare_Physical_noise_kappa={kappa}_{figure_num}\",\n",
    "                  kappa = kappa)"
   ]
  },
  {
   "cell_type": "code",
   "execution_count": 8,
   "metadata": {},
   "outputs": [
    {
     "name": "stderr",
     "output_type": "stream",
     "text": [
      "WARNING:matplotlib.animation:MovieWriter imagemagick unavailable; using Pillow instead.\n",
      "e:\\Thesis\\Prof.Marco Genoni\\OQB-implementation---Batsim\\BatSim\\Plot\\data_plot.py:125: UserWarning: linestyle is redundantly defined by the 'linestyle' keyword argument and the fmt string \"-o\" (-> linestyle='-'). The keyword argument will take precedence.\n",
      "  ax.errorbar(x_axis[:frame], Daemonic_Im[:frame], yerr=std_dev[:frame], color='orange', linestyle='dashed', fmt='-o', markersize=4)\n",
      "e:\\Thesis\\Prof.Marco Genoni\\OQB-implementation---Batsim\\BatSim\\Plot\\data_plot.py:126: UserWarning: linestyle is redundantly defined by the 'linestyle' keyword argument and the fmt string \"-s\" (-> linestyle='-'). The keyword argument will take precedence.\n",
      "  ax.errorbar(x_axis[:frame], Daemonic_ImIdeal[:frame], yerr=std_dev[:frame], color='black', linestyle='dashed', fmt='-s', markersize=4)\n",
      "WARNING:matplotlib.legend:No artists with labels found to put in legend.  Note that artists whose label start with an underscore are ignored when legend() is called with no argument.\n",
      "WARNING:matplotlib.legend:No artists with labels found to put in legend.  Note that artists whose label start with an underscore are ignored when legend() is called with no argument.\n",
      "c:\\Users\\Navid Elyasi\\AppData\\Local\\Programs\\Python\\Python310\\lib\\site-packages\\matplotlib\\cbook.py:1699: ComplexWarning: Casting complex values to real discards the imaginary part\n",
      "  return math.isfinite(val)\n",
      "c:\\Users\\Navid Elyasi\\AppData\\Local\\Programs\\Python\\Python310\\lib\\site-packages\\matplotlib\\cbook.py:1345: ComplexWarning: Casting complex values to real discards the imaginary part\n",
      "  return np.asarray(x, float)\n",
      "WARNING:matplotlib.legend:No artists with labels found to put in legend.  Note that artists whose label start with an underscore are ignored when legend() is called with no argument.\n",
      "WARNING:matplotlib.legend:No artists with labels found to put in legend.  Note that artists whose label start with an underscore are ignored when legend() is called with no argument.\n",
      "WARNING:matplotlib.legend:No artists with labels found to put in legend.  Note that artists whose label start with an underscore are ignored when legend() is called with no argument.\n",
      "WARNING:matplotlib.legend:No artists with labels found to put in legend.  Note that artists whose label start with an underscore are ignored when legend() is called with no argument.\n",
      "WARNING:matplotlib.legend:No artists with labels found to put in legend.  Note that artists whose label start with an underscore are ignored when legend() is called with no argument.\n",
      "WARNING:matplotlib.legend:No artists with labels found to put in legend.  Note that artists whose label start with an underscore are ignored when legend() is called with no argument.\n",
      "WARNING:matplotlib.legend:No artists with labels found to put in legend.  Note that artists whose label start with an underscore are ignored when legend() is called with no argument.\n",
      "WARNING:matplotlib.legend:No artists with labels found to put in legend.  Note that artists whose label start with an underscore are ignored when legend() is called with no argument.\n",
      "WARNING:matplotlib.legend:No artists with labels found to put in legend.  Note that artists whose label start with an underscore are ignored when legend() is called with no argument.\n",
      "WARNING:matplotlib.legend:No artists with labels found to put in legend.  Note that artists whose label start with an underscore are ignored when legend() is called with no argument.\n"
     ]
    },
    {
     "data": {
      "text/plain": [
       "<matplotlib.animation.FuncAnimation at 0x21b9b07a2f0>"
      ]
     },
     "execution_count": 8,
     "metadata": {},
     "output_type": "execute_result"
    },
    {
     "name": "stderr",
     "output_type": "stream",
     "text": [
      "WARNING:matplotlib.legend:No artists with labels found to put in legend.  Note that artists whose label start with an underscore are ignored when legend() is called with no argument.\n"
     ]
    },
    {
     "data": {
      "image/png": "[encoded data removed]",
      "text/plain": [
       "<Figure size 640x480 with 1 Axes>"
      ]
     },
     "metadata": {},
     "output_type": "display_data"
    }
   ],
   "source": [
    "data_plot.compare(std_dev = std_curve, \n",
    "                  std_devIdeal = std_curveIdeal,\n",
    "                  Ergotropy_TheoryIdeal=Ergotropy_TheoryIdeal, \n",
    "                  error =True,\n",
    "                  Ergotropy_ImIdeal=Ergotropy_ImIdeal,\n",
    "                  Daemonic_Theory=Daemonic_Theory,  \n",
    "                  Daemonic_TheoryIdeal=Daemonic_TheoryIdeal, \n",
    "                  Daemonic_Im=Daemonic_Im, \n",
    "                  Daemonic_ImIdeal=Daemonic_ImIdeal,\n",
    "                  noise = False,\n",
    "                  legend= True, \n",
    "                  file_name=f\"Physical_nonoise_kappa={kappa}_{figure_num}\",\n",
    "                  kappa = kappa)"
   ]
  }
 ],
 "metadata": {
  "kernelspec": {
   "display_name": "Python 3",
   "language": "python",
   "name": "python3"
  },
  "language_info": {
   "codemirror_mode": {
    "name": "ipython",
    "version": 3
   },
   "file_extension": ".py",
   "mimetype": "text/x-python",
   "name": "python",
   "nbconvert_exporter": "python",
   "pygments_lexer": "ipython3",
   "version": "3.10.6"
  }
 },
 "nbformat": 4,
 "nbformat_minor": 2
}
