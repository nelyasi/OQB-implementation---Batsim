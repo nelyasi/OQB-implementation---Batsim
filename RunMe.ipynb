{
 "cells": [
  {
   "cell_type": "code",
   "execution_count": 117,
   "metadata": {},
   "outputs": [],
   "source": [
    "import BatSim.New_Hamiltonian.Noisy_Passive_Unitary        as data\n",
    "import BatSim.New_Hamiltonian.Noisy_Passive_Circuit        as datac\n",
    "import BatSim.New_Hamiltonian.Theory_Unconditional         as datae\n",
    "import BatSim.New_Hamiltonian.Implementation_Unconditional as datad\n",
    "from math import pi\n",
    "from qiskit_aer import AerSimulator"
   ]
  },
  {
   "cell_type": "code",
   "execution_count": 118,
   "metadata": {},
   "outputs": [],
   "source": [
    "import BatSim.New_Hamiltonian.test as test"
   ]
  },
  {
   "cell_type": "code",
   "execution_count": 119,
   "metadata": {},
   "outputs": [
    {
     "data": {
      "text/plain": [
       "<module 'BatSim.New_Hamiltonian.test' from 'e:\\\\Thesis\\\\Prof.Marco Genoni\\\\Package 2\\\\BatSim\\\\New_Hamiltonian\\\\test.py'>"
      ]
     },
     "execution_count": 119,
     "metadata": {},
     "output_type": "execute_result"
    }
   ],
   "source": [
    "test"
   ]
  },
  {
   "cell_type": "code",
   "execution_count": 120,
   "metadata": {},
   "outputs": [],
   "source": [
    "from qiskit_ibm_provider import IBMProvider\n",
    "from qiskit_ibm_runtime import QiskitRuntimeService\n",
    "QiskitRuntimeService.save_account(channel=\"ibm_quantum\", token=\"b8c9c6ea75f73002df04d5bf97273f3d153a43c11b611279642b752989d86cfad0e023990964d294f3b43317b04c44e1d6290c6cb30514aad5014932ca197a8b\", overwrite=True)\n",
    "#If you want run the code on the simulator, please enable the following line. If you wan to run it on the real backend, let it go to be disabled. \n",
    "\n"
   ]
  },
  {
   "cell_type": "markdown",
   "metadata": {},
   "source": [
    "# Define Initial Parameters"
   ]
  },
  {
   "cell_type": "code",
   "execution_count": 121,
   "metadata": {},
   "outputs": [],
   "source": [
    "from math import sqrt, exp\n",
    "from qiskit import *\n",
    "Steps  = 10\n",
    "Charge = 8*pi/10\n",
    "Battery = 28\n",
    "Ancilla = 29\n",
    "omega = 1\n",
    "kappa = 1\n",
    "shots = 10000"
   ]
  },
  {
   "cell_type": "markdown",
   "metadata": {},
   "source": [
    "# Conditional Passive Energy "
   ]
  },
  {
   "cell_type": "code",
   "execution_count": 123,
   "metadata": {},
   "outputs": [
    {
     "name": "stdout",
     "output_type": "stream",
     "text": [
      "0.008000000000000007 0.0062 0.0044205782905410995 0.9641058988750333\n"
     ]
    }
   ],
   "source": [
    "\n",
    "service = QiskitRuntimeService(channel=\"ibm_quantum\")\n",
    "backend = service.get_backend('ibm_osaka')\n",
    "properties = backend.properties()\n",
    "backend_data = properties.to_dict()\n",
    "#P01 = backend_data['qubits'][Ancilla][5]['value']\n",
    "#P10 = backend_data['qubits'][Ancilla][6]['value']\n",
    "#backend = AerSimulator().from_backend(backend)\n",
    "#Circuit For Calculating P01\n",
    "q  = QuantumRegister(1)\n",
    "c = ClassicalRegister(1)\n",
    "qc = QuantumCircuit(q, c)\n",
    "qc.x(q)\n",
    "qc.measure(q, c)\n",
    "qc = transpile(qc, backend,  initial_layout = [Ancilla])\n",
    "job = backend.run(qc, shots = 10000)\n",
    "result = job.result()\n",
    "counts = result.get_counts()\n",
    "P01 = counts['0']/10000\n",
    "#Circuit Fo Claculating P10\n",
    "q  = QuantumRegister(1)\n",
    "c = ClassicalRegister(1)\n",
    "qc = QuantumCircuit(q, c)\n",
    "qc.measure(q, c)\n",
    "qc = transpile(qc,backend,  initial_layout = [Ancilla])\n",
    "job = backend.run(qc, shots = 10000)\n",
    "result = job.result()\n",
    "counts = result.get_counts()\n",
    "P10 = counts['1']/10000\n",
    "#Extracing the T1 and T2\n",
    "pa = 1 -  exp(-0.66/(backend_data['qubits'][Battery][0]['value']))\n",
    "pd = exp(-0.66/(backend_data['qubits'][Battery][1]['value']))\n",
    "print(P01, P10, pa, pd)\n",
    "\n",
    "#Inserting the obtained values into our protocol\n",
    "Passvie_Theory = data.Noisy_Passive_Unitary(Steps = 10, omega = omega, kappa = kappa, pa = pa , pd = pd, P01 =P01 , P10 = P10)\n",
    "Passive_Im = datac.Noisy_Passive_Circuit(Steps = 10, omega = omega, kappa = kappa, p = pd, backend=backend, shots= shots, qubits =[Battery, Ancilla])\n"
   ]
  },
  {
   "cell_type": "code",
   "execution_count": 124,
   "metadata": {},
   "outputs": [
    {
     "data": {
      "text/plain": [
       "[0.14629999999999999,\n",
       " 0.19399999999999995,\n",
       " 0.20899999999999996,\n",
       " 0.23299999999999998,\n",
       " 0.24750000000000005,\n",
       " 0.25129999999999997,\n",
       " 0.26239999999999997,\n",
       " 0.2629,\n",
       " 0.29169999999999996,\n",
       " 0.32089999999999996]"
      ]
     },
     "execution_count": 124,
     "metadata": {},
     "output_type": "execute_result"
    }
   ],
   "source": [
    "Passive_Im"
   ]
  },
  {
   "cell_type": "code",
   "execution_count": 125,
   "metadata": {},
   "outputs": [
    {
     "data": {
      "text/plain": [
       "[0.031210314604101837,\n",
       " 0.043364646396684345,\n",
       " 0.050640103386891386,\n",
       " 0.06630777674065917,\n",
       " 0.06507021575329934,\n",
       " 0.07347032317434721,\n",
       " 0.07061035828988933,\n",
       " 0.07341197495799373,\n",
       " 0.07176270944809206,\n",
       " 0.07230670916717737]"
      ]
     },
     "execution_count": 125,
     "metadata": {},
     "output_type": "execute_result"
    }
   ],
   "source": [
    "Passvie_Theory"
   ]
  },
  {
   "cell_type": "markdown",
   "metadata": {},
   "source": [
    "# Charged Energy and Unconditional Ergotropy"
   ]
  },
  {
   "cell_type": "code",
   "execution_count": 126,
   "metadata": {},
   "outputs": [],
   "source": [
    "Energy_Theory, Ergotropy_Theory     = datae.Energy_Ergotropy(Steps = Steps,  omega = omega, kappa = kappa, pa = pa , pd = pd)\n",
    "Energy_Im    , Ergotropy_Im     = datad.Energy_Ergotropy(Steps = Steps,  omega = omega, kappa = kappa , backend = backend, shots = shots, qubits = [Battery, Ancilla])\n",
    "#Energy_Im = Energy_Theory\n",
    "#Ergotropy_Im = Ergotropy_Theory\n",
    "\n",
    "\n"
   ]
  },
  {
   "cell_type": "markdown",
   "metadata": {},
   "source": [
    "# Daemonic Ergotropy"
   ]
  },
  {
   "cell_type": "code",
   "execution_count": 127,
   "metadata": {},
   "outputs": [],
   "source": [
    "Daemonic_Theory = [xi - yi for xi, yi in zip(Energy_Theory, Passvie_Theory )]\n",
    "Daemonic_Im     = [xi - yi for xi, yi in zip(Energy_Im    ,      Passive_Im)]\n",
    "\n",
    "x_axis = []\n",
    "x  = 0\n",
    "for k in range(Steps):\n",
    "    x += 1\n",
    "    x_axis.append(x)"
   ]
  },
  {
   "cell_type": "markdown",
   "metadata": {},
   "source": [
    "# Plotting the Results "
   ]
  },
  {
   "cell_type": "code",
   "execution_count": 128,
   "metadata": {},
   "outputs": [
    {
     "name": "stderr",
     "output_type": "stream",
     "text": [
      "c:\\Users\\Navid Elyasi\\AppData\\Local\\Programs\\Python\\Python310\\lib\\site-packages\\matplotlib\\cbook.py:1699: ComplexWarning: Casting complex values to real discards the imaginary part\n",
      "  return math.isfinite(val)\n",
      "c:\\Users\\Navid Elyasi\\AppData\\Local\\Programs\\Python\\Python310\\lib\\site-packages\\matplotlib\\cbook.py:1345: ComplexWarning: Casting complex values to real discards the imaginary part\n",
      "  return np.asarray(x, float)\n"
     ]
    },
    {
     "data": {
      "image/png": "[encoded data removed]",
      "text/plain": [
       "<Figure size 640x480 with 1 Axes>"
      ]
     },
     "metadata": {},
     "output_type": "display_data"
    }
   ],
   "source": [
    "import matplotlib.pyplot as plt\n",
    "import matplotlib.font_manager as font_manager\n",
    "plt.rcParams['font.family'] = \"serif\"\n",
    "plt.rcParams['text.usetex'] = True\n",
    "font = {'family': 'serif',\n",
    "        'weight': 'normal',\n",
    "        'size': 9,\n",
    "        }\n",
    "#font = font_manager.FontProperties(family='serif',style='normal', size=12)\n",
    "\n",
    "plt.plot(x_axis, Ergotropy_Theory, color='deepskyblue', linestyle='dashed', linewidth = 1,\n",
    "         marker='o', markerfacecolor='deepskyblue', markersize=4, label = \"Unconditional Work - Theory\")\n",
    "         \n",
    "plt.plot(x_axis, Ergotropy_Im  , color='blue', linestyle='dashed', linewidth = 1,\n",
    "         marker='s', markerfacecolor='blue', markersize=4, label = \"Unconditional Work - Osaka [28, 29]\")\n",
    "\n",
    "plt.plot(x_axis, Daemonic_Theory, color='violet', linestyle='dashed', linewidth = 1,\n",
    "         marker= \"v\", markerfacecolor='violet', markersize=4,  label = \"Daemonic Work - Ideal POVM - Theory\")\n",
    "\n",
    "#plt.plot(x_axis, Daemonic_Theory1, color='orange', linestyle='dashed', linewidth = 1,\n",
    "         #marker= \"v\", markerfacecolor='orange', markersize=4,  label = \"Daemonic Work -Ideal POVM - Theory\")\n",
    "\n",
    "plt.plot(x_axis, Daemonic_Im, color='crimson', linestyle='dashed', linewidth = 1,\n",
    "         marker= \"D\", markerfacecolor='crimson', markersize=4    ,label = \"Daemonic Work - Ideal POVM - IBM-Osaka [28, 29]\")\n",
    "\n",
    "#plt.plot(x_axis, Daemonic_Im1, color='green', linestyle='dashed', linewidth = 1,\n",
    "         #marker= \"D\", markerfacecolor='green', markersize=4    ,label = \"Daemonic Work - Ideal POVM - IBM-Osaka [28, 29]\") \n",
    "\n",
    "plt.xlabel('Steps', fontdict=font, fontsize=12)\n",
    "plt.ylabel('Energy', fontdict=font, fontsize=12)\n",
    "plt.title(f'Dameonic Work After Applying Ideal POVM', fontdict=font,fontsize=12 )\n",
    "plt.tick_params(direction = 'in', which = 'both') \n",
    "plt.tick_params(which='minor', length=4, color='r')\n",
    "ax = plt.subplot(111)\n",
    "box = ax.get_position()\n",
    "box = ax.get_position()\n",
    "#ax.set_position([box.x0, box.y0, box.width * 0.8, box.height])\n",
    "\n",
    " #Put a legend to the right of the current axis\n",
    "ax.legend(loc='center left',bbox_to_anchor=(1, 0.5),  prop = font)\n",
    "plt.savefig('Plot2legend.pdf',format=\"pdf\",  dpi = 600,  bbox_inches='tight')\n",
    "plt.show()\n"
   ]
  },
  {
   "cell_type": "code",
   "execution_count": 129,
   "metadata": {},
   "outputs": [
    {
     "data": {
      "text/plain": [
       "[0.03550000000000003,\n",
       " 0.036700000000000066,\n",
       " 0.008000000000000063,\n",
       " 0.0021000000000000463,\n",
       " 0.0026000000000000467,\n",
       " 0,\n",
       " 0.00770000000000004,\n",
       " 0,\n",
       " 0,\n",
       " 0.0042999999999999705]"
      ]
     },
     "execution_count": 129,
     "metadata": {},
     "output_type": "execute_result"
    }
   ],
   "source": [
    "Ergotropy_Im "
   ]
  },
  {
   "cell_type": "code",
   "execution_count": 130,
   "metadata": {},
   "outputs": [
    {
     "data": {
      "text/plain": [
       "[0.37350000000000005,\n",
       " 0.3297000000000001,\n",
       " 0.2129000000000001,\n",
       " 0.23450000000000004,\n",
       " 0.21589999999999998,\n",
       " 0.19740000000000002,\n",
       " 0.19710000000000005,\n",
       " 0.1896,\n",
       " 0.15850000000000009,\n",
       " 0.1432]"
      ]
     },
     "execution_count": 130,
     "metadata": {},
     "output_type": "execute_result"
    }
   ],
   "source": [
    "Daemonic_Im  "
   ]
  },
  {
   "cell_type": "code",
   "execution_count": 131,
   "metadata": {},
   "outputs": [
    {
     "data": {
      "text/plain": [
       "[0.5198,\n",
       " 0.5237,\n",
       " 0.42190000000000005,\n",
       " 0.4675,\n",
       " 0.46340000000000003,\n",
       " 0.4487,\n",
       " 0.4595,\n",
       " 0.4525,\n",
       " 0.45020000000000004,\n",
       " 0.46409999999999996]"
      ]
     },
     "execution_count": 131,
     "metadata": {},
     "output_type": "execute_result"
    }
   ],
   "source": [
    "Energy_Im "
   ]
  },
  {
   "cell_type": "code",
   "execution_count": null,
   "metadata": {},
   "outputs": [],
   "source": []
  }
 ],
 "metadata": {
  "kernelspec": {
   "display_name": "Python 3",
   "language": "python",
   "name": "python3"
  },
  "language_info": {
   "codemirror_mode": {
    "name": "ipython",
    "version": 3
   },
   "file_extension": ".py",
   "mimetype": "text/x-python",
   "name": "python",
   "nbconvert_exporter": "python",
   "pygments_lexer": "ipython3",
   "version": "3.10.6"
  }
 },
 "nbformat": 4,
 "nbformat_minor": 2
}
