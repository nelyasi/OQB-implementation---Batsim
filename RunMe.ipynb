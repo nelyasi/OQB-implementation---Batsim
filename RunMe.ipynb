{
 "cells": [
  {
   "cell_type": "code",
   "execution_count": 1,
   "metadata": {},
   "outputs": [
    {
     "name": "stderr",
     "output_type": "stream",
     "text": [
      "c:\\Users\\Navid Elyasi\\AppData\\Local\\Programs\\Python\\Python310\\lib\\site-packages\\qutip\\__init__.py:66: UserWarning: The new version of Cython, (>= 3.0.0) is not supported.\n",
      "  warnings.warn(\n"
     ]
    }
   ],
   "source": [
    "import BatSim.New_Hamiltonian.Noisy_Passive_Unitary        as data\n",
    "import BatSim.New_Hamiltonian.Noisy_Passive_Circuit        as datac\n",
    "import BatSim.New_Hamiltonian.Theory_Unconditional         as datae\n",
    "import BatSim.New_Hamiltonian.Implementation_Unconditional as datad\n",
    "from math import pi\n",
    "from qiskit_aer import AerSimulator"
   ]
  },
  {
   "cell_type": "code",
   "execution_count": 2,
   "metadata": {},
   "outputs": [],
   "source": [
    "import BatSim.New_Hamiltonian.test as test"
   ]
  },
  {
   "cell_type": "code",
   "execution_count": 3,
   "metadata": {},
   "outputs": [
    {
     "data": {
      "text/plain": [
       "<module 'BatSim.New_Hamiltonian.test' from 'e:\\\\Thesis\\\\Prof.Marco Genoni\\\\Package\\\\BatSim\\\\New_Hamiltonian\\\\test.py'>"
      ]
     },
     "execution_count": 3,
     "metadata": {},
     "output_type": "execute_result"
    }
   ],
   "source": [
    "test"
   ]
  },
  {
   "cell_type": "code",
   "execution_count": 4,
   "metadata": {},
   "outputs": [],
   "source": [
    "from qiskit_ibm_provider import IBMProvider\n",
    "from qiskit_ibm_runtime import QiskitRuntimeService\n",
    "QiskitRuntimeService.save_account(channel=\"ibm_quantum\", token=\"aa2138ac2769923222f0c513bb7b1dbf9585cbbc66cbae5e5088a9f351e34888e04f9dc79f9fea1bdacdaf150ac7890f5db10de87649bafff12a7b2d97667227\", overwrite=True)\n",
    "#If you want run the code on the simulator, please enable the following line. If you wan to run it on the real backend, let it go to be disabled. \n",
    "\n"
   ]
  },
  {
   "cell_type": "markdown",
   "metadata": {},
   "source": [
    "# Define Initial Parameters"
   ]
  },
  {
   "cell_type": "code",
   "execution_count": 5,
   "metadata": {},
   "outputs": [],
   "source": [
    "from math import sqrt, exp\n",
    "from qiskit import *\n",
    "Steps  = 10\n",
    "Charge = 8*pi/10\n",
    "Battery = 28\n",
    "Ancilla = 29\n",
    "omega = 1\n",
    "kappa = 1\n",
    "shots = 10000"
   ]
  },
  {
   "cell_type": "markdown",
   "metadata": {},
   "source": [
    "# Conditional Passive Energy "
   ]
  },
  {
   "cell_type": "code",
   "execution_count": 6,
   "metadata": {},
   "outputs": [
    {
     "name": "stderr",
     "output_type": "stream",
     "text": [
      "ERROR:websocket:Connection to remote host was lost. - goodbye\n",
      "ERROR:websocket:ping/pong timed out - goodbye\n",
      "ERROR:websocket:[Errno 11001] getaddrinfo failed - goodbye\n",
      "ERROR:websocket:[Errno 11001] getaddrinfo failed - goodbye\n",
      "ERROR:websocket:ping/pong timed out - goodbye\n",
      "ERROR:websocket:[WinError 10054] An existing connection was forcibly closed by the remote host - goodbye\n",
      "ERROR:websocket:ping/pong timed out - goodbye\n",
      "ERROR:websocket:[Errno 11001] getaddrinfo failed - goodbye\n",
      "ERROR:websocket:[WinError 10054] An existing connection was forcibly closed by the remote host - goodbye\n"
     ]
    },
    {
     "name": "stdout",
     "output_type": "stream",
     "text": [
      "0.0096 0.0034 0.005508641937918224 0.961014479796945\n"
     ]
    },
    {
     "name": "stderr",
     "output_type": "stream",
     "text": [
      "ERROR:websocket:ping/pong timed out - goodbye\n"
     ]
    },
    {
     "name": "stdout",
     "output_type": "stream",
     "text": [
      "0.0081 0.0052 0.005508641937918224 0.961014479796945\n"
     ]
    }
   ],
   "source": [
    "Passvie_Theory = []\n",
    "Passive_Im = []\n",
    "j = 0\n",
    "for i in range(Steps):\n",
    "    j += 1\n",
    "    service = QiskitRuntimeService(channel=\"ibm_quantum\")\n",
    "    backend = service.get_backend('ibm_osaka')\n",
    "    properties = backend.properties()\n",
    "    backend_data = properties.to_dict()\n",
    "    #P01 = backend_data['qubits'][Ancilla][5]['value']\n",
    "    #P10 = backend_data['qubits'][Ancilla][6]['value']\n",
    "    #backend = AerSimulator().from_backend(backend)\n",
    "    #Circuit For Calculating P01\n",
    "    q  = QuantumRegister(1)\n",
    "    c = ClassicalRegister(1)\n",
    "    qc = QuantumCircuit(q, c)\n",
    "    qc.x(q)\n",
    "    qc.measure(q, c)\n",
    "    qc = transpile(qc, backend,  initial_layout = [Ancilla])\n",
    "    job = backend.run(qc, shots = 10000)\n",
    "    result = job.result()\n",
    "    counts = result.get_counts()\n",
    "    P01 = counts['0']/10000\n",
    "    #Circuit Fo Claculating P10\n",
    "    q  = QuantumRegister(1)\n",
    "    c = ClassicalRegister(1)\n",
    "    qc = QuantumCircuit(q, c)\n",
    "    qc.measure(q, c)\n",
    "    qc = transpile(qc,backend,  initial_layout = [Ancilla])\n",
    "    job = backend.run(qc, shots = 10000)\n",
    "    result = job.result()\n",
    "    counts = result.get_counts()\n",
    "    P10 = counts['1']/10000\n",
    "    #Extracing the T1 and T2\n",
    "    pa = 1 -  exp(-1.4/(backend_data['qubits'][Battery][0]['value']))\n",
    "    pd = exp(-1.4/(backend_data['qubits'][Battery][1]['value']))\n",
    "    print(P01, P10, pa, pd)\n",
    "    #Inserting the obtained values into our protocol\n",
    "    EPT = data.Noisy_Passive_Unitary(Steps = j, omega = omega, kappa = kappa, pa = pa , pd = pd, P01 =P01 , P10 = P10)\n",
    "    Passvie_Theory.append(EPT)\n",
    "    EPI = datac.Noisy_Passive_Circuit(Steps = j, omega = omega, kappa = kappa, p = pd, backend=backend, shots= shots, qubits =[Battery, Ancilla])\n",
    "    Passive_Im.append(EPI)"
   ]
  },
  {
   "cell_type": "markdown",
   "metadata": {},
   "source": [
    "# Charged Energy and Unconditional Ergotropy"
   ]
  },
  {
   "cell_type": "code",
   "execution_count": null,
   "metadata": {},
   "outputs": [],
   "source": [
    "backend = AerSimulator().from_backend(backend)\n",
    "Energy_Theory, Ergotropy_Theory     = datae.Energy_Ergotropy(Steps = Steps,  omega = omega, kappa = kappa, pa = pa , pd = pd)\n",
    "Energy_Im    , Ergotropy_Im     = datad.Energy_Ergotropy(Steps = Steps,  omega = omega, kappa = kappa , backend = backend, shots = shots, qubits = [28, 29])\n",
    "#Energy_Im = Energy_Theory\n",
    "#Ergotropy_Im = Ergotropy_Theory\n",
    "\n",
    "\n"
   ]
  },
  {
   "cell_type": "code",
   "execution_count": null,
   "metadata": {},
   "outputs": [],
   "source": []
  },
  {
   "cell_type": "markdown",
   "metadata": {},
   "source": [
    "# Daemonic Ergotropy"
   ]
  },
  {
   "cell_type": "code",
   "execution_count": null,
   "metadata": {},
   "outputs": [],
   "source": [
    "Daemonic_Theory = [xi - yi for xi, yi in zip(Energy_Theory, Passvie_Theory )]\n",
    "Daemonic_Im     = [xi - yi for xi, yi in zip(Energy_Im    ,      Passive_Im)]\n",
    "\n",
    "x_axis = []\n",
    "x  = 0\n",
    "for k in range(Steps):\n",
    "    x += 1\n",
    "    x_axis.append(x)"
   ]
  },
  {
   "cell_type": "code",
   "execution_count": null,
   "metadata": {},
   "outputs": [],
   "source": []
  },
  {
   "cell_type": "markdown",
   "metadata": {},
   "source": [
    "# Plotting the Results "
   ]
  },
  {
   "cell_type": "code",
   "execution_count": null,
   "metadata": {},
   "outputs": [
    {
     "name": "stderr",
     "output_type": "stream",
     "text": [
      "c:\\Users\\Navid Elyasi\\AppData\\Local\\Programs\\Python\\Python310\\lib\\site-packages\\matplotlib\\cbook.py:1699: ComplexWarning: Casting complex values to real discards the imaginary part\n",
      "  return math.isfinite(val)\n",
      "c:\\Users\\Navid Elyasi\\AppData\\Local\\Programs\\Python\\Python310\\lib\\site-packages\\matplotlib\\cbook.py:1345: ComplexWarning: Casting complex values to real discards the imaginary part\n",
      "  return np.asarray(x, float)\n"
     ]
    },
    {
     "data": {
      "image/png": "[encoded data removed]",
      "text/plain": [
       "<Figure size 640x480 with 1 Axes>"
      ]
     },
     "metadata": {},
     "output_type": "display_data"
    }
   ],
   "source": [
    "import matplotlib.pyplot as plt\n",
    "import matplotlib.font_manager as font_manager\n",
    "plt.rcParams['font.family'] = \"serif\"\n",
    "plt.rcParams['text.usetex'] = True\n",
    "font = {'family': 'serif',\n",
    "        'weight': 'normal',\n",
    "        'size': 9,\n",
    "        }\n",
    "#font = font_manager.FontProperties(family='serif',style='normal', size=12)\n",
    "\n",
    "plt.plot(x_axis, Ergotropy_Theory, color='deepskyblue', linestyle='dashed', linewidth = 1,\n",
    "         marker='o', markerfacecolor='deepskyblue', markersize=4, label = \"Unconditional Ergotropy - Theory\")\n",
    "         \n",
    "plt.plot(x_axis, Ergotropy_Im  , color='blue', linestyle='dashed', linewidth = 1,\n",
    "         marker='s', markerfacecolor='blue', markersize=4, label = \"Unconditional Ergotropy - IBM-Sherbrooke\")\n",
    "\n",
    "plt.plot(x_axis, Daemonic_Theory, color='violet', linestyle='dashed', linewidth = 1,\n",
    "         marker= \"v\", markerfacecolor='violet', markersize=4,  label = \"Daemonic Ergotropy - Theory\")\n",
    "\n",
    "plt.plot(x_axis, Daemonic_Im, color='crimson', linestyle='dashed', linewidth = 1,\n",
    "         marker= \"D\", markerfacecolor='crimson', markersize=4    ,label = \"Daemonic Ergotropy - IBM-Sherbrooke\") \n",
    "\n",
    "plt.xlabel('Steps', fontdict=font, fontsize=12)\n",
    "plt.ylabel('Energy', fontdict=font, fontsize=12)\n",
    "plt.title(f'(b)', fontdict=font,fontsize=12 )\n",
    "plt.tick_params(direction = 'in', which = 'both') \n",
    "plt.tick_params(which='minor', length=4, color='r')\n",
    "ax = plt.subplot(111)\n",
    "box = ax.get_position()\n",
    "box = ax.get_position()\n",
    "#ax.set_position([box.x0, box.y0, box.width * 0.8, box.height])\n",
    "\n",
    " #Put a legend to the right of the current axis\n",
    "#ax.legend(prop = font)\n",
    "plt.savefig('Plot2legend.pdf',format=\"pdf\",  dpi = 600,  bbox_inches='tight')\n",
    "plt.show()\n"
   ]
  },
  {
   "cell_type": "code",
   "execution_count": null,
   "metadata": {},
   "outputs": [
    {
     "data": {
      "text/plain": [
       "[0.02939999999999998,\n",
       " 0.027699999999999947,\n",
       " 0.005900000000000016,\n",
       " 0.0037000000000000366,\n",
       " 0.008699999999999986,\n",
       " 0.006199999999999983,\n",
       " 0,\n",
       " 0.011499999999999955,\n",
       " 0,\n",
       " 0.00709999999999994]"
      ]
     },
     "execution_count": 62,
     "metadata": {},
     "output_type": "execute_result"
    }
   ],
   "source": [
    "Ergotropy_Im "
   ]
  },
  {
   "cell_type": "code",
   "execution_count": null,
   "metadata": {},
   "outputs": [
    {
     "data": {
      "text/plain": [
       "[0.48640000000000005,\n",
       " 0.4708,\n",
       " 0.37360000000000004,\n",
       " 0.4095000000000001,\n",
       " 0.40349999999999997,\n",
       " 0.40369999999999995,\n",
       " 0.40370000000000006,\n",
       " 0.41279999999999994,\n",
       " 0.39870000000000005,\n",
       " 0.4002]"
      ]
     },
     "execution_count": 63,
     "metadata": {},
     "output_type": "execute_result"
    }
   ],
   "source": [
    "Daemonic_Im  "
   ]
  },
  {
   "cell_type": "code",
   "execution_count": null,
   "metadata": {},
   "outputs": [
    {
     "data": {
      "text/plain": [
       "[0.5161,\n",
       " 0.5186,\n",
       " 0.42510000000000003,\n",
       " 0.46930000000000005,\n",
       " 0.4628,\n",
       " 0.4608,\n",
       " 0.46140000000000003,\n",
       " 0.4669,\n",
       " 0.4554,\n",
       " 0.45709999999999995]"
      ]
     },
     "execution_count": 64,
     "metadata": {},
     "output_type": "execute_result"
    }
   ],
   "source": [
    "Energy_Im "
   ]
  },
  {
   "cell_type": "code",
   "execution_count": null,
   "metadata": {},
   "outputs": [],
   "source": []
  }
 ],
 "metadata": {
  "kernelspec": {
   "display_name": "Python 3",
   "language": "python",
   "name": "python3"
  },
  "language_info": {
   "codemirror_mode": {
    "name": "ipython",
    "version": 3
   },
   "file_extension": ".py",
   "mimetype": "text/x-python",
   "name": "python",
   "nbconvert_exporter": "python",
   "pygments_lexer": "ipython3",
   "version": "3.10.6"
  }
 },
 "nbformat": 4,
 "nbformat_minor": 2
}
