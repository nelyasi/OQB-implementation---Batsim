{
 "cells": [
  {
   "cell_type": "code",
   "execution_count": 67,
   "metadata": {},
   "outputs": [],
   "source": [
    "import BatSim.New_Hamiltonian.Noisy_Passive_Unitary        as data\n",
    "import BatSim.New_Hamiltonian.Noisy_Passive_Circuit        as datac\n",
    "import BatSim.New_Hamiltonian.Theory_Unconditional         as datae\n",
    "import BatSim.New_Hamiltonian.Implementation_Unconditional as datad\n",
    "from math import pi\n",
    "from qiskit_aer import AerSimulator"
   ]
  },
  {
   "cell_type": "code",
   "execution_count": 68,
   "metadata": {},
   "outputs": [],
   "source": [
    "import BatSim.New_Hamiltonian.test as test"
   ]
  },
  {
   "cell_type": "code",
   "execution_count": 69,
   "metadata": {},
   "outputs": [
    {
     "data": {
      "text/plain": [
       "<module 'BatSim.New_Hamiltonian.test' from 'e:\\\\Thesis\\\\Prof.Marco Genoni\\\\OQB-implementation---Batsim\\\\BatSim\\\\New_Hamiltonian\\\\test.py'>"
      ]
     },
     "execution_count": 69,
     "metadata": {},
     "output_type": "execute_result"
    }
   ],
   "source": [
    "test"
   ]
  },
  {
   "cell_type": "code",
   "execution_count": 70,
   "metadata": {},
   "outputs": [],
   "source": [
    "from qiskit_ibm_provider import IBMProvider\n",
    "from qiskit_ibm_runtime import QiskitRuntimeService\n",
    "QiskitRuntimeService.save_account(channel=\"ibm_quantum\", token=\"b62cf31dde6b72f593a668b03b6984d2298e78701c3e15bbe8d2cf64add15412fd47c42c21a7129ef69b9dfde632ccffb1e1cee69d3eb2f9a15adcefa2b7d71b\", overwrite=True)\n",
    "#If you want run the code on the simulator, please enable the following line. If you wan to run it on the real backend, let it go to be disabled. \n",
    "\n"
   ]
  },
  {
   "cell_type": "markdown",
   "metadata": {},
   "source": [
    "# Define Initial Parameters"
   ]
  },
  {
   "cell_type": "code",
   "execution_count": 71,
   "metadata": {},
   "outputs": [],
   "source": [
    "from math import sqrt, exp\n",
    "from qiskit import *\n",
    "Steps  = 10\n",
    "Charge = 8*pi/10\n",
    "Battery = 28\n",
    "Ancilla = 29\n",
    "omega = 1\n",
    "kappa = 1\n",
    "shots = 10000"
   ]
  },
  {
   "cell_type": "markdown",
   "metadata": {},
   "source": [
    "# Conditional Passive Energy "
   ]
  },
  {
   "cell_type": "code",
   "execution_count": 72,
   "metadata": {},
   "outputs": [
    {
     "name": "stdout",
     "output_type": "stream",
     "text": [
      "0.0077 0.0043 0.0020930894333808236 0.9827833555143529\n"
     ]
    }
   ],
   "source": [
    "\n",
    "service = QiskitRuntimeService(channel=\"ibm_quantum\")\n",
    "backend = service.get_backend('ibm_osaka')\n",
    "properties = backend.properties()\n",
    "backend_data = properties.to_dict()\n",
    "#P01 = backend_data['qubits'][Ancilla][5]['value']\n",
    "#P10 = backend_data['qubits'][Ancilla][6]['value']\n",
    "#backend = AerSimulator().from_backend(backend)\n",
    "#Circuit For Calculating P01\n",
    "q  = QuantumRegister(1)\n",
    "c = ClassicalRegister(1)\n",
    "qc = QuantumCircuit(q, c)\n",
    "qc.x(q)\n",
    "qc.measure(q, c)\n",
    "qc = transpile(qc, backend,  initial_layout = [Ancilla])\n",
    "job = backend.run(qc, shots = 10000)\n",
    "result = job.result()\n",
    "counts = result.get_counts()\n",
    "P01 = counts['0']/10000\n",
    "#Circuit Fo Claculating P10\n",
    "q  = QuantumRegister(1)\n",
    "c = ClassicalRegister(1)\n",
    "qc = QuantumCircuit(q, c)\n",
    "qc.measure(q, c)\n",
    "qc = transpile(qc,backend,  initial_layout = [Ancilla])\n",
    "job = backend.run(qc, shots = 10000)\n",
    "result = job.result()\n",
    "counts = result.get_counts()\n",
    "P10 = counts['1']/10000\n",
    "#Extracing the T1 and T2\n",
    "pa = 1 -  exp(-0.66/(backend_data['qubits'][Battery][0]['value']))\n",
    "pd = exp(-0.66/(backend_data['qubits'][Battery][1]['value']))\n",
    "print(P01, P10, pa, pd)\n",
    "\n",
    "#Inserting the obtained values into our protocol\n",
    "Passvie_Theory = data.Noisy_Passive_Unitary(Steps = 10, omega = omega, kappa = kappa, pa = pa , pd = pd, P01 =P01 , P10 = P10)\n",
    "Passive_Im = datac.Noisy_Passive_Circuit(Steps = 10, omega = omega, kappa = kappa, p = pd, backend=backend, shots= shots, qubits =[Battery, Ancilla])\n"
   ]
  },
  {
   "cell_type": "code",
   "execution_count": 73,
   "metadata": {},
   "outputs": [
    {
     "data": {
      "text/plain": [
       "[0.15259999999999996,\n",
       " 0.1865,\n",
       " 0.20599999999999996,\n",
       " 0.2187,\n",
       " 0.2267,\n",
       " 0.22940000000000005,\n",
       " 0.2409,\n",
       " 0.2691,\n",
       " 0.35229999999999995,\n",
       " 0.5075000000000001]"
      ]
     },
     "execution_count": 73,
     "metadata": {},
     "output_type": "execute_result"
    }
   ],
   "source": [
    "Passive_Im"
   ]
  },
  {
   "cell_type": "code",
   "execution_count": 74,
   "metadata": {},
   "outputs": [
    {
     "data": {
      "text/plain": [
       "[0.01713976502833211,\n",
       " 0.02609899946808982,\n",
       " 0.03028648568471256,\n",
       " 0.042565744384814086,\n",
       " 0.042917586777630856,\n",
       " 0.05113605085201696,\n",
       " 0.04876908281101024,\n",
       " 0.052154997768668915,\n",
       " 0.050107325795737824,\n",
       " 0.05099141520093375]"
      ]
     },
     "execution_count": 74,
     "metadata": {},
     "output_type": "execute_result"
    }
   ],
   "source": [
    "Passvie_Theory"
   ]
  },
  {
   "cell_type": "markdown",
   "metadata": {},
   "source": [
    "# Charged Energy and Unconditional Ergotropy"
   ]
  },
  {
   "cell_type": "code",
   "execution_count": 75,
   "metadata": {},
   "outputs": [],
   "source": [
    "backend = AerSimulator().from_backend(backend)\n",
    "Energy_Theory, Ergotropy_Theory     = datae.Energy_Ergotropy(Steps = Steps,  omega = omega, kappa = kappa, pa = pa , pd = pd)\n",
    "Energy_Im    , Ergotropy_Im     = datad.Energy_Ergotropy(Steps = Steps,  omega = omega, kappa = kappa , backend = backend, shots = shots, qubits = [Battery, Ancilla])\n",
    "#Energy_Im = Energy_Theory\n",
    "#Ergotropy_Im = Ergotropy_Theory\n",
    "\n",
    "\n"
   ]
  },
  {
   "cell_type": "markdown",
   "metadata": {},
   "source": [
    "# Daemonic Ergotropy"
   ]
  },
  {
   "cell_type": "code",
   "execution_count": 76,
   "metadata": {},
   "outputs": [],
   "source": [
    "Daemonic_Theory = [xi - yi for xi, yi in zip(Energy_Theory, Passvie_Theory )]\n",
    "Daemonic_Im     = [xi - yi for xi, yi in zip(Energy_Im    ,      Passive_Im)]\n",
    "\n",
    "x_axis = []\n",
    "x  = 0\n",
    "for k in range(Steps):\n",
    "    x += 1\n",
    "    x_axis.append(x)"
   ]
  },
  {
   "cell_type": "markdown",
   "metadata": {},
   "source": [
    "# Plotting the Results "
   ]
  },
  {
   "cell_type": "code",
   "execution_count": 77,
   "metadata": {},
   "outputs": [
    {
     "name": "stderr",
     "output_type": "stream",
     "text": [
      "c:\\Users\\Navid Elyasi\\AppData\\Local\\Programs\\Python\\Python310\\lib\\site-packages\\matplotlib\\cbook.py:1699: ComplexWarning: Casting complex values to real discards the imaginary part\n",
      "  return math.isfinite(val)\n",
      "c:\\Users\\Navid Elyasi\\AppData\\Local\\Programs\\Python\\Python310\\lib\\site-packages\\matplotlib\\cbook.py:1345: ComplexWarning: Casting complex values to real discards the imaginary part\n",
      "  return np.asarray(x, float)\n"
     ]
    },
    {
     "data": {
      "image/png": "[encoded data removed]",
      "text/plain": [
       "<Figure size 640x480 with 1 Axes>"
      ]
     },
     "metadata": {},
     "output_type": "display_data"
    }
   ],
   "source": [
    "import matplotlib.pyplot as plt\n",
    "import matplotlib.font_manager as font_manager\n",
    "plt.rcParams['font.family'] = \"serif\"\n",
    "plt.rcParams['text.usetex'] = True\n",
    "font = {'family': 'serif',\n",
    "        'weight': 'normal',\n",
    "        'size': 9,\n",
    "        }\n",
    "#font = font_manager.FontProperties(family='serif',style='normal', size=12)\n",
    "\n",
    "plt.plot(x_axis, Ergotropy_Theory, color='deepskyblue', linestyle='dashed', linewidth = 1,\n",
    "         marker='o', markerfacecolor='deepskyblue', markersize=4, label = \"Unconditional Work - Theory\")\n",
    "         \n",
    "plt.plot(x_axis, Ergotropy_Im  , color='blue', linestyle='dashed', linewidth = 1,\n",
    "         marker='s', markerfacecolor='blue', markersize=4, label = \"Unconditional Work - Osaka [28, 29]\")\n",
    "\n",
    "plt.plot(x_axis, Daemonic_Theory, color='violet', linestyle='dashed', linewidth = 1,\n",
    "         marker= \"v\", markerfacecolor='violet', markersize=4,  label = \"Daemonic Work - Ideal POVM - Theory\")\n",
    "\n",
    "#plt.plot(x_axis, Daemonic_Theory1, color='orange', linestyle='dashed', linewidth = 1,\n",
    "         #marker= \"v\", markerfacecolor='orange', markersize=4,  label = \"Daemonic Work -Ideal POVM - Theory\")\n",
    "\n",
    "plt.plot(x_axis, Daemonic_Im, color='crimson', linestyle='dashed', linewidth = 1,\n",
    "         marker= \"D\", markerfacecolor='crimson', markersize=4    ,label = \"Daemonic Work - Ideal POVM - IBM-Osaka [28, 29]\")\n",
    "\n",
    "#plt.plot(x_axis, Daemonic_Im1, color='green', linestyle='dashed', linewidth = 1,\n",
    "         #marker= \"D\", markerfacecolor='green', markersize=4    ,label = \"Daemonic Work - Ideal POVM - IBM-Osaka [28, 29]\") \n",
    "\n",
    "plt.xlabel('Steps', fontdict=font, fontsize=12)\n",
    "plt.ylabel('Energy', fontdict=font, fontsize=12)\n",
    "plt.title(f'Dameonic Work After Applying Ideal POVM', fontdict=font,fontsize=12 )\n",
    "plt.tick_params(direction = 'in', which = 'both') \n",
    "plt.tick_params(which='minor', length=4, color='r')\n",
    "ax = plt.subplot(111)\n",
    "box = ax.get_position()\n",
    "box = ax.get_position()\n",
    "#ax.set_position([box.x0, box.y0, box.width * 0.8, box.height])\n",
    "\n",
    " #Put a legend to the right of the current axis\n",
    "ax.legend(loc='center left',bbox_to_anchor=(1, 0.5),  prop = font)\n",
    "plt.savefig('Plot2legend.pdf',format=\"pdf\",  dpi = 600,  bbox_inches='tight')\n",
    "plt.show()\n"
   ]
  },
  {
   "cell_type": "code",
   "execution_count": 78,
   "metadata": {},
   "outputs": [
    {
     "data": {
      "text/plain": [
       "[0.03810000000000002,\n",
       " 0.032200000000000006,\n",
       " 0.005699999999999983,\n",
       " 0.007300000000000029,\n",
       " 0,\n",
       " 0.005500000000000005,\n",
       " 0,\n",
       " 0,\n",
       " 0.0022999999999999687,\n",
       " 0]"
      ]
     },
     "execution_count": 78,
     "metadata": {},
     "output_type": "execute_result"
    }
   ],
   "source": [
    "Ergotropy_Im "
   ]
  },
  {
   "cell_type": "code",
   "execution_count": 79,
   "metadata": {},
   "outputs": [
    {
     "data": {
      "text/plain": [
       "[0.36650000000000005,\n",
       " 0.3356,\n",
       " 0.21850000000000003,\n",
       " 0.2559,\n",
       " 0.2339,\n",
       " 0.23229999999999995,\n",
       " 0.2177,\n",
       " 0.1896,\n",
       " 0.1048,\n",
       " -0.05490000000000006]"
      ]
     },
     "execution_count": 79,
     "metadata": {},
     "output_type": "execute_result"
    }
   ],
   "source": [
    "Daemonic_Im  "
   ]
  },
  {
   "cell_type": "code",
   "execution_count": 80,
   "metadata": {},
   "outputs": [
    {
     "data": {
      "text/plain": [
       "[0.5191,\n",
       " 0.5221,\n",
       " 0.4245,\n",
       " 0.4746,\n",
       " 0.4606,\n",
       " 0.4617,\n",
       " 0.4586,\n",
       " 0.4587,\n",
       " 0.45709999999999995,\n",
       " 0.4526]"
      ]
     },
     "execution_count": 80,
     "metadata": {},
     "output_type": "execute_result"
    }
   ],
   "source": [
    "Energy_Im "
   ]
  },
  {
   "cell_type": "code",
   "execution_count": null,
   "metadata": {},
   "outputs": [],
   "source": []
  }
 ],
 "metadata": {
  "kernelspec": {
   "display_name": "Python 3",
   "language": "python",
   "name": "python3"
  },
  "language_info": {
   "codemirror_mode": {
    "name": "ipython",
    "version": 3
   },
   "file_extension": ".py",
   "mimetype": "text/x-python",
   "name": "python",
   "nbconvert_exporter": "python",
   "pygments_lexer": "ipython3",
   "version": "3.10.6"
  }
 },
 "nbformat": 4,
 "nbformat_minor": 2
}
