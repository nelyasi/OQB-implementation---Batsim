{
 "cells": [
  {
   "cell_type": "code",
   "execution_count": 28,
   "metadata": {},
   "outputs": [],
   "source": [
    "import json\n",
    "from qiskit_ibm_provider import IBMProvider\n",
    "from qiskit_ibm_runtime import QiskitRuntimeService\n",
    "from qiskit_ibm_runtime import RuntimeEncoder\n",
    "import pandas as pd\n"
   ]
  },
  {
   "cell_type": "code",
   "execution_count": 29,
   "metadata": {},
   "outputs": [],
   "source": [
    "file_path = 'Jobs/Physical/Jobs_Physical_Kappa=2-3.csv'  # Update the path as necessary\n",
    "df = pd.read_csv(file_path, header=None)\n",
    "\n",
    "# Convert the dataframe to a list of lists\n",
    "data_list = df.values.tolist()\n",
    "# Saving IBM Quantum account credentials using QiskitRuntimeService\n",
    "QiskitRuntimeService.save_account(channel=\"ibm_quantum\",  # Specify the channel (e.g., \"ibm_quantum\")\n",
    "                                  token=f\"{data_list[0][0]}\",  # Insert your IBM Quantum token here\n",
    "                                  overwrite=True)  # Overwrite existing credentials if present\n",
    "service = QiskitRuntimeService(channel=\"ibm_quantum\")\n",
    "\n",
    "jobs = [f'{data_list[5][0]}', f'{data_list[6][0]}', f'{data_list[7][0]}', f'{data_list[8][0]}', f'{data_list[9][0]}', f'{data_list[10][0]}']"
   ]
  },
  {
   "cell_type": "code",
   "execution_count": 30,
   "metadata": {},
   "outputs": [],
   "source": [
    "for item in jobs:\n",
    "    retrieved_job = service.job(item)\n",
    "    with open(f\"Jobs/Physical/{item}.json\", \"w\") as file:\n",
    "        json.dump(retrieved_job.result(), file, cls=RuntimeEncoder)"
   ]
  }
 ],
 "metadata": {
  "kernelspec": {
   "display_name": "Python 3",
   "language": "python",
   "name": "python3"
  },
  "language_info": {
   "codemirror_mode": {
    "name": "ipython",
    "version": 3
   },
   "file_extension": ".py",
   "mimetype": "text/x-python",
   "name": "python",
   "nbconvert_exporter": "python",
   "pygments_lexer": "ipython3",
   "version": "3.10.6"
  }
 },
 "nbformat": 4,
 "nbformat_minor": 2
}
