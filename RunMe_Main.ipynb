{
 "cells": [
  {
   "cell_type": "markdown",
   "metadata": {},
   "source": [
    "# BatSim\n",
    "\n",
    "In this notebook, we aim to provide the necessary code for the protocol explained in the paper (https://arxiv.org/abs/2410.16567). To simplify the process, we have encapsulated all the code in a package called \"BatSim\" (Battery Simulation). This package is composed of several parts, as illustrated in the following diagram.\n",
    "\n",
    "![BatSim Package Overview](BatSim_Package_Overview.png)\n",
    "\n",
    "The package consists of four main sub-packages, which we will explain one by one:\n",
    "\n",
    "1. **Physical**: This sub-package is based on a model that charges the Quantum Battery (QB) and correlates it with an ancilla using a unitary gate generated from the Hamiltonian as explained in the paper.\n",
    "\n",
    "\n",
    "The \"Physical\" has two main modules:\n",
    "   - **Daemonic**: Responsible for daemonic work extraction.\n",
    "   - **Unconditional**: Responsible for unconditional work extraction.\n",
    "\n",
    "Each of these modules has two attributes:\n",
    "   - **Theory**: Contains the code needed for theoretical results.\n",
    "   - **Implement**: Contains the code needed for implementation results on real hardware.\n",
    "\n",
    "2. **BestQubits**: This sub-package is designed to find the best qubits with low readout error to maximize the performance of IBM devices and enhance the results. It includes one module called **Select**, which has one attributes:\n",
    "   - **Q_Physical**: Selects the best qubits for the Physical model explaiend in the paper.\n",
    "\n",
    "3. **Calibration**: This sub-package has one module called **Data**, which includes an attribute **Noise_Data**. This attribute obtains the parameters needed to engineer our proposed noise model, mimicking hardware behavior in theoretical calculations and finding the optimal unitary gates.\n",
    "\n",
    "4. **Plot**: This sub-package is designed for plotting the results in two modes:\n",
    "   - **Single Mode**: For plotting the results of either the noisy or ideal case.\n",
    "   - **Comparison Mode**: For comparing the noisy and ideal cases.\n",
    "\n",
    "The \"Plot\" sub-package includes a module called **data_plot**, which has two attributes:\n",
    "   - **specifications**: For single plotting.\n",
    "   - **compare**: For comparison plotting.\n",
    "\n",
    "By organizing the code in this manner, we aim to provide a clear, structured approach to producing and analyzing the results presented in the paper."
   ]
  },
  {
   "cell_type": "code",
   "execution_count": 10,
   "metadata": {},
   "outputs": [],
   "source": [
    "# Importing necessary modules and classes from BatSim package\n",
    "from BatSim.Physical import Unconditional, Daemonic  # Importing Unconditional and Daemonic from RyCnot. If you intend to use the Physical model in the code, you need to replace 'RyCnot' with 'Physical'.\n",
    "from BatSim.Calibration import Data  # Importing Data from Calibration\n",
    "from BatSim.BestQubits import Select  # Importing Select from BestQubits\n",
    "from BatSim.Plot import data_plot  # Importing data_plot from Plot\n",
    "\n",
    "# Importing necessary functions and constants\n",
    "from math import pi, sqrt, exp  # Importing pi, sqrt, and exp functions/constants from math module\n",
    "\n",
    "# Importing Qiskit Aer Simulator from qiskit_aer package\n",
    "from qiskit_aer import AerSimulator\n",
    "\n",
    "# Importing IBMProvider and QiskitRuntimeService from qiskit_ibm_provider and qiskit_ibm_runtime packages\n",
    "from qiskit_ibm_provider import IBMProvider\n",
    "from qiskit_ibm_runtime import QiskitRuntimeService\n",
    "\n",
    "# Saving IBM Quantum account credentials using QiskitRuntimeService\n",
    "QiskitRuntimeService.save_account(channel=\"ibm_quantum\",  # Specify the channel (e.g., \"ibm_quantum\")\n",
    "                                  token=\"84bf0806f9748a23823801e13984be44e19ca8a82c9b945a94965d7fd56436df6449f6628f28e49d2e6076a7a92943680bb45ab1ecd55a646959cc1ad97df85e\",  # Insert your IBM Quantum token here\n",
    "                                  overwrite=True)  # Overwrite existing credentials if present\n"
   ]
  },
  {
   "cell_type": "markdown",
   "metadata": {},
   "source": [
    "# Define Initial Parameters\n",
    "\n",
    "In this cell, we will set the parameters for running the code. These parameters include the number of steps we want the collisional model to perform, the charging angle for the RyCNOT model, and omega and kappa, which are the parameters for the physical Hamiltonian model. Finally, we will specify the number of shots we aim to run the circuits."
   ]
  },
  {
   "cell_type": "code",
   "execution_count": 11,
   "metadata": {},
   "outputs": [],
   "source": [
    "Steps = 10  # Number of steps for the collisional model\n",
    "alpha = 1  # drving field parameter for the physical Hamiltonian model\n",
    "kappa = 2  # coupling parameter for the physical Hamiltonian model\n",
    "shots = 10000  # Number of shots for running the circuit\n",
    "m = 'Z'"
   ]
  },
  {
   "cell_type": "markdown",
   "metadata": {},
   "source": [
    "# Hardware Specefications\n",
    "\n",
    "Here, we will set the backend for running our circuits and identify the best qubits available on the backend to enhance our results."
   ]
  },
  {
   "cell_type": "code",
   "execution_count": 12,
   "metadata": {},
   "outputs": [],
   "source": [
    "omega = alpha\n",
    "# Initialize Qiskit Runtime Service\n",
    "service = QiskitRuntimeService(channel=\"ibm_quantum\")\n",
    "\n",
    "# Get the backend information for IBM Osaka\n",
    "backend = service.get_backend('ibm_brisbane')\n",
    "\n",
    "# Retrieve the backend properties\n",
    "properties = backend.properties()\n",
    "\n",
    "# Select the best qubits using the Q_RyCnot model from the Select module. For the Physical model, you need to just change the Q_RyCnot to Q_Physical.\n",
    "qubits = Select.Q_Physical(Steps=Steps, omega = omega, kappa = kappa , backend=backend)\n",
    "#qubits = Select.Q_RyCnot(Steps=Steps, Charge= Charge , backend=backend)\n",
    "qubits = qubits[0]# Extract the selected qubits\n",
    "\n",
    "\n",
    "# Convert backend properties to a dictionary for easier handling\n",
    "backend_data = properties.to_dict()\n"
   ]
  },
  {
   "cell_type": "markdown",
   "metadata": {},
   "source": [
    "# Circuit Executions (Noisy)\n",
    "\n",
    "This cell is dedicated to first finding the parameters like P01, P10, pa, and pd for the engineering noise model that we want to implement in our model. Secondly, we run the code for finding the daemonic and unconditional work extraction in both theoretical and implementation contexts. The theoretical context also produces a CSV file containing the optimal unitary work extraction elements needed for implementation on real devices. We then execute the implementation using the backend, qubit indices, and parameters that were defined previously in the above cells. "
   ]
  },
  {
   "cell_type": "code",
   "execution_count": 13,
   "metadata": {},
   "outputs": [
    {
     "name": "stdout",
     "output_type": "stream",
     "text": [
      "P01: 0.0064, P10: 0.0064, pa: 0.004532040682656557, pd: 0.004985258946298643\n"
     ]
    }
   ],
   "source": [
    "# Obtain noise parameters from the Data module\n",
    "P01, P10, pa, pd = Data.Noise_Data(backend=backend, shots=shots, qubits=qubits, simulator=True)\n",
    "\n",
    "# If running on a simulator, uncomment the following line; otherwise, leave it disabled\n",
    "backend = AerSimulator().from_backend(backend)\n"
   ]
  },
  {
   "cell_type": "code",
   "execution_count": 14,
   "metadata": {},
   "outputs": [
    {
     "name": "stdout",
     "output_type": "stream",
     "text": [
      "Z is selected\n",
      "Z is done\n",
      "Z is done\n",
      "Z is done\n",
      "Z is done\n",
      "Z is done\n",
      "Z is done\n",
      "Z is done\n",
      "Z is done\n",
      "Z is done\n",
      "Z is done\n",
      "Z is done\n",
      "Z is done\n",
      "Z is done\n",
      "Z is done\n",
      "Z is done\n",
      "Z is done\n",
      "Z is done\n",
      "Z is done\n",
      "Z is done\n",
      "Z is done\n",
      "Z is done\n",
      "Z is done\n",
      "Z is done\n",
      "Z is done\n",
      "Z is done\n",
      "Z is done\n",
      "Z is done\n",
      "Z is done\n",
      "Z is done\n",
      "Z is done\n",
      "Z is done\n",
      "Z is done\n",
      "Z is done\n",
      "Z is done\n",
      "Z is done\n",
      "Z is done\n",
      "Z is done\n",
      "Z is done\n",
      "Z is done\n",
      "Z is done\n",
      "Z is done\n",
      "Z is done\n",
      "Z is done\n",
      "Z is done\n",
      "Z is done\n",
      "Z is done\n",
      "Z is done\n",
      "Z is done\n",
      "Z is done\n",
      "Z is done\n",
      "Z is done\n",
      "Z is done\n",
      "Z is done\n",
      "Z is done\n",
      "Z is done\n"
     ]
    }
   ],
   "source": [
    "backend = AerSimulator().from_backend(backend)\n",
    "# Calculate theoretical results using the Daemonic module for passive energy after optimal unitary work extraction\n",
    "Passive_Theory = Daemonic.Theory(Steps=Steps,omega = omega, kappa = kappa, pa=pa, pd=pd, P01=P01, P10=P10, m = m)\n",
    "##Passive_Theory = Daemonic.Theory(Steps=Steps,Charge= Charge, pa=pa, pd=pd, P01=P01, P10=P10)\n",
    "\n",
    "# Implement the Daemonic work extraction on the backend to calculate the passive energy\n",
    "Passive_Im = Daemonic.Implement(Steps=Steps, omega = omega, kappa = kappa, backend=backend, shots=shots, qubits=qubits, m = m)\n",
    "#Passive_Im = Daemonic.Implement(Steps=Steps,Charge= Charge, backend=backend, shots=shots, qubits=qubits)\n",
    "\n",
    "# Calculate theoretical results using the Unconditional module for passive energy and ergCXotropy\n",
    "Energy_Theory, Ergotropy_Theory = Unconditional.Theory(Steps=Steps, omega = omega, kappa = kappa, pa=pa, pd=pd, m = m)\n",
    "#Energy_Theory, Ergotropy_Theory = Unconditional.Theory(Steps=Steps, Charge= Charge, pa=pa, pd=pd)\n",
    "\n",
    "# Implement the Unconditional model on the backend to get unconditional work extraction and final energy\n",
    "Energy_Im, Ergotropy_Im = Unconditional.Implement(Steps=Steps, omega = omega, kappa = kappa, backend=backend, shots=shots, qubits=qubits, m = m)\n",
    "#Energy_Im, Ergotropy_Im = Unconditional.Implement(Steps=Steps,Charge= Charge, backend=backend, shots=shots, qubits=qubits)\n",
    "\n",
    "# Calculate the theoretical and implemented Daemonic results.\n",
    "Daemonic_Theory = [xi - yi for xi, yi in zip(Energy_Theory, Passive_Theory)]\n",
    "Daemonic_Im = [xi - yi for xi, yi in zip(Energy_Im, Passive_Im)]\n"
   ]
  },
  {
   "cell_type": "markdown",
   "metadata": {},
   "source": [
    "# Circuit Executions (Ideal)\n",
    "\n",
    "This cell performs the same process as mentioned in the previous cell, with the fundamental difference of not considering noise in the calculations and setting the noise parameters to the ideal case. Similarly, we run the code for finding the daemonic and unconditional work extraction in both theoretical and implementation contexts. The theoretical context also produces a CSV file containing the optimal unitary work extraction elements needed for implementation on real devices. We then execute the implementation using the backend, qubit indices, and parameters that were defined previously in the above cells."
   ]
  },
  {
   "cell_type": "code",
   "execution_count": 15,
   "metadata": {},
   "outputs": [
    {
     "name": "stdout",
     "output_type": "stream",
     "text": [
      "Z is selected\n",
      "Z is done\n",
      "Z is done\n",
      "Z is done\n",
      "Z is done\n",
      "Z is done\n",
      "Z is done\n",
      "Z is done\n",
      "Z is done\n",
      "Z is done\n",
      "Z is done\n",
      "Z is done\n",
      "Z is done\n",
      "Z is done\n",
      "Z is done\n",
      "Z is done\n",
      "Z is done\n",
      "Z is done\n",
      "Z is done\n",
      "Z is done\n",
      "Z is done\n",
      "Z is done\n",
      "Z is done\n",
      "Z is done\n",
      "Z is done\n",
      "Z is done\n",
      "Z is done\n",
      "Z is done\n",
      "Z is done\n",
      "Z is done\n",
      "Z is done\n",
      "Z is done\n",
      "Z is done\n",
      "Z is done\n",
      "Z is done\n",
      "Z is done\n",
      "Z is done\n",
      "Z is done\n",
      "Z is done\n",
      "Z is done\n",
      "Z is done\n",
      "Z is done\n",
      "Z is done\n",
      "Z is done\n",
      "Z is done\n",
      "Z is done\n",
      "Z is done\n",
      "Z is done\n",
      "Z is done\n",
      "Z is done\n",
      "Z is done\n",
      "Z is done\n",
      "Z is done\n",
      "Z is done\n",
      "Z is done\n",
      "Z is done\n"
     ]
    }
   ],
   "source": [
    "P01, P10, pa, pd = 0, 0, 0 ,0\n",
    "# Calculate theoretical results using the Daemonic module for passive energy after optimal unitary work extraction\n",
    "Passive_TheoryIdeal = Daemonic.Theory(Steps=Steps,omega = omega, kappa = kappa, pa=pa, pd=pd, P01=P01, P10=P10, m = m)\n",
    "#Passive_TheoryIdeal = Daemonic.Theory(Steps=Steps,Charge= Charge, pa=pa, pd=pd, P01=P01, P10=P10)\n",
    "\n",
    "# Implement the Daemonic work extraction on the backend to calculate the passive energy\n",
    "Passive_ImIdeal = Daemonic.Implement(Steps=Steps, omega = omega, kappa = kappa, backend=backend, shots=shots, qubits=qubits, m = m)\n",
    "#Passive_ImIdeal = Daemonic.Implement(Steps=Steps,Charge= Charge, backend=backend, shots=shots, qubits=qubits)\n",
    "\n",
    "# Calculate theoretical results using the Unconditional module for passive energy and ergCXotropy\n",
    "Energy_TheoryIdeal, Ergotropy_TheoryIdeal = Unconditional.Theory(Steps=Steps, omega = omega, kappa = kappa, pa=pa, pd=pd, m = m)\n",
    "#Energy_TheoryIdeal, Ergotropy_TheoryIdeal = Unconditional.Theory(Steps=Steps, Charge= Charge, pa=pa, pd=pd)\n",
    "\n",
    "# Implement the Unconditional model on the backend to get unconditional work extraction and final energy\n",
    "Energy_ImIdeal, Ergotropy_ImIdeal = Unconditional.Implement(Steps=Steps, omega = omega, kappa = kappa, backend=backend, shots=shots, qubits=qubits, m = m)\n",
    "#Energy_ImIdeal, Ergotropy_ImIdeal = Unconditional.Implement(Steps=Steps,Charge= Charge, backend=backend, shots=shots, qubits=qubits)\n",
    "\n",
    "# Calculate the theoretical and implemented Daemonic results.\n",
    "Daemonic_TheoryIdeal = [xi - yi for xi, yi in zip(Energy_TheoryIdeal, Passive_TheoryIdeal)]\n",
    "Daemonic_ImIdeal = [xi - yi for xi, yi in zip(Energy_ImIdeal, Passive_ImIdeal)]\n"
   ]
  },
  {
   "cell_type": "markdown",
   "metadata": {},
   "source": [
    "# Standart Deviation"
   ]
  },
  {
   "cell_type": "code",
   "execution_count": 16,
   "metadata": {},
   "outputs": [],
   "source": [
    "\n",
    "delte_E_init2 = [] \n",
    "delta_E_fin_2 = [] \n",
    "std_curve = []\n",
    "\n",
    "for item in Energy_Im:\n",
    "    std = item*(1 - item)\n",
    "    delte_E_init2.append(std)\n",
    "for item in Passive_Im:\n",
    "    std = item*(1 - item)\n",
    "    delta_E_fin_2.append(std)\n",
    "\n",
    "\n",
    "for i in range(len(Energy_Im)):\n",
    "    std = sqrt((delte_E_init2[i] + delta_E_fin_2[i])/shots)\n",
    "    std_curve.append(std)\n",
    "\n",
    "delte_E_init2 = [] \n",
    "delta_E_fin_2 = [] \n",
    "std_curveIdeal = []\n",
    "\n",
    "for item in Energy_ImIdeal:\n",
    "    std = item*(1 - item)\n",
    "    delte_E_init2.append(std)\n",
    "for item in Passive_ImIdeal:\n",
    "    std = item*(1 - item)\n",
    "    delta_E_fin_2.append(std)\n",
    "\n",
    "\n",
    "for i in range(len(Energy_ImIdeal)):\n",
    "    std = sqrt((delte_E_init2[i] + delta_E_fin_2[i])/shots)\n",
    "    std_curveIdeal.append(std)"
   ]
  },
  {
   "cell_type": "markdown",
   "metadata": {},
   "source": [
    "# Plotting the Results \n",
    "\n",
    "In the next three cells, we plot the results for the noisy case, the ideal case, and a comparison plot, respectively."
   ]
  },
  {
   "cell_type": "code",
   "execution_count": 17,
   "metadata": {},
   "outputs": [
    {
     "name": "stderr",
     "output_type": "stream",
     "text": [
      "c:\\Users\\Navid Elyasi\\AppData\\Local\\Programs\\Python\\Python310\\lib\\site-packages\\matplotlib\\cbook.py:1699: ComplexWarning: Casting complex values to real discards the imaginary part\n",
      "  return math.isfinite(val)\n",
      "c:\\Users\\Navid Elyasi\\AppData\\Local\\Programs\\Python\\Python310\\lib\\site-packages\\matplotlib\\cbook.py:1345: ComplexWarning: Casting complex values to real discards the imaginary part\n",
      "  return np.asarray(x, float)\n",
      "e:\\Thesis\\Prof.Marco Genoni\\OQB-implementation---Batsim\\BatSim\\Plot\\data_plot.py:117: UserWarning: linestyle is redundantly defined by the 'linestyle' keyword argument and the fmt string \"-o\" (-> linestyle='-'). The keyword argument will take precedence.\n",
      "  plt.errorbar(x_axis, Daemonic_Im, yerr=std_dev, color='orange', linestyle='dashed', fmt='-o', markersize=4, label= r'$\\overline{\\mathcal{W}}_{\\{\\tilde{\\Pi}_{{\\bf a}_n},\\hat{U}_{{\\bf a}_n}^{\\sf noisy} \\} }$')\n",
      "e:\\Thesis\\Prof.Marco Genoni\\OQB-implementation---Batsim\\BatSim\\Plot\\data_plot.py:118: UserWarning: linestyle is redundantly defined by the 'linestyle' keyword argument and the fmt string \"-s\" (-> linestyle='-'). The keyword argument will take precedence.\n",
      "  plt.errorbar(x_axis, Daemonic_ImIdeal, yerr=std_dev, color='black', linestyle='dashed', fmt='-s', markersize=4, label= r'$\\overline{\\mathcal{W}}_{\\{\\tilde{\\Pi}_{{\\bf a}_n},\\hat{U}_{{\\bf a}_n}^{\\sf ideal} \\} }$')\n"
     ]
    },
    {
     "data": {
      "image/png": "[encoded data removed]",
      "text/plain": [
       "<Figure size 640x480 with 1 Axes>"
      ]
     },
     "metadata": {},
     "output_type": "display_data"
    }
   ],
   "source": [
    "data_plot.compare(std_dev = std_curve, \n",
    "                  std_devIdeal = std_curveIdeal,\n",
    "                  Ergotropy_TheoryIdeal=Ergotropy_TheoryIdeal, \n",
    "                  error =True,\n",
    "                  Ergotropy_ImIdeal=Ergotropy_ImIdeal,\n",
    "                  Daemonic_Theory=Daemonic_Theory,  \n",
    "                  Daemonic_TheoryIdeal=Daemonic_TheoryIdeal, \n",
    "                  Daemonic_Im=Daemonic_Im, \n",
    "                  Daemonic_ImIdeal=Daemonic_ImIdeal,\n",
    "                  noise = True,\n",
    "                  legend= True, \n",
    "                  file_name=f\"compare_Physical_noise_kappa={kappa}\",\n",
    "                  kappa = kappa)"
   ]
  },
  {
   "cell_type": "code",
   "execution_count": 18,
   "metadata": {},
   "outputs": [
    {
     "name": "stderr",
     "output_type": "stream",
     "text": [
      "e:\\Thesis\\Prof.Marco Genoni\\OQB-implementation---Batsim\\BatSim\\Plot\\data_plot.py:123: UserWarning: linestyle is redundantly defined by the 'linestyle' keyword argument and the fmt string \"-D\" (-> linestyle='-'). The keyword argument will take precedence.\n",
      "  plt.errorbar(x_axis, Daemonic_ImIdeal, yerr=std_dev, color='black', linestyle='dashed', fmt='-D', markersize=4, label= r'$\\overline{\\mathcal{W}}_{\\{\\tilde{\\Pi}_{{\\bf a}_n},\\hat{U}_{{\\bf a}_n}^{\\sf ideal} \\} }$')\n"
     ]
    },
    {
     "data": {
      "image/png": "[encoded data removed]",
      "text/plain": [
       "<Figure size 640x480 with 1 Axes>"
      ]
     },
     "metadata": {},
     "output_type": "display_data"
    }
   ],
   "source": [
    "data_plot.compare(std_dev = std_curve, \n",
    "                  std_devIdeal = std_curveIdeal,\n",
    "                  Ergotropy_TheoryIdeal=Ergotropy_TheoryIdeal, \n",
    "                  error =True,\n",
    "                  Ergotropy_ImIdeal=Ergotropy_ImIdeal,\n",
    "                  Daemonic_Theory=Daemonic_Theory,  \n",
    "                  Daemonic_TheoryIdeal=Daemonic_TheoryIdeal, \n",
    "                  Daemonic_Im=Daemonic_Im, \n",
    "                  Daemonic_ImIdeal=Daemonic_ImIdeal,\n",
    "                  noise = False,\n",
    "                  legend= True, \n",
    "                  file_name=f\"Physical_nonoise_kappa={kappa}\",\n",
    "                  kappa = kappa)"
   ]
  }
 ],
 "metadata": {
  "kernelspec": {
   "display_name": "Python 3",
   "language": "python",
   "name": "python3"
  },
  "language_info": {
   "codemirror_mode": {
    "name": "ipython",
    "version": 3
   },
   "file_extension": ".py",
   "mimetype": "text/x-python",
   "name": "python",
   "nbconvert_exporter": "python",
   "pygments_lexer": "ipython3",
   "version": "3.10.6"
  }
 },
 "nbformat": 4,
 "nbformat_minor": 2
}
